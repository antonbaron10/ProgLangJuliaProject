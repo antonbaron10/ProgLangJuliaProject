{
  "nbformat": 4,
  "nbformat_minor": 0,
  "metadata": {
    "colab": {
      "name": "Programming Languages Julia Colab",
      "provenance": [],
      "collapsed_sections": [],
      "include_colab_link": true
    },
    "kernelspec": {
      "display_name": "Julia",
      "language": "julia",
      "name": "julia"
    },
    "language_info": {
      "file_extension": ".jl",
      "mimetype": "application/julia",
      "name": "julia"
    }
  },
  "cells": [
    {
      "cell_type": "markdown",
      "metadata": {
        "id": "view-in-github",
        "colab_type": "text"
      },
      "source": [
        "<a href=\"https://colab.research.google.com/github/antonbaron10/ProgLangJuliaProject/blob/master/Programming_Languages_Julia_Colab.ipynb\" target=\"_parent\"><img src=\"https://colab.research.google.com/assets/colab-badge.svg\" alt=\"Open In Colab\"/></a>"
      ]
    },
    {
      "cell_type": "code",
      "metadata": {
        "id": "MS30xW09Jjkl"
      },
      "source": [
        ""
      ],
      "execution_count": null,
      "outputs": []
    },
    {
      "cell_type": "code",
      "metadata": {
        "colab": {
          "base_uri": "https://localhost:8080/"
        },
        "id": "Lespvid776c-",
        "outputId": "e3a03426-937d-4c95-9d56-24c778abcf1f"
      },
      "source": [
        "%%shell\n",
        "set -e\n",
        "\n",
        "#---------------------------------------------------#\n",
        "JULIA_VERSION=\"1.4.2\" # any version ≥ 0.7.0\n",
        "JULIA_PACKAGES=\"IJulia BenchmarkTools PyCall PyPlot\"\n",
        "JULIA_PACKAGES_IF_GPU=\"CUDA\"\n",
        "JULIA_NUM_THREADS=4\n",
        "#---------------------------------------------------#\n",
        "\n",
        "if [ -n \"$COLAB_GPU\" ] && [ -z `which julia` ]; then\n",
        "  # Install Julia\n",
        "  JULIA_VER=`cut -d '.' -f -2 <<< \"$JULIA_VERSION\"`\n",
        "  echo \"Installing Julia $JULIA_VERSION on the current Colab Runtime...\"\n",
        "  BASE_URL=\"https://julialang-s3.julialang.org/bin/linux/x64\"\n",
        "  URL=\"$BASE_URL/$JULIA_VER/julia-$JULIA_VERSION-linux-x86_64.tar.gz\"\n",
        "  wget -nv $URL -O /tmp/julia.tar.gz # -nv means \"not verbose\"\n",
        "  tar -x -f /tmp/julia.tar.gz -C /usr/local --strip-components 1\n",
        "  rm /tmp/julia.tar.gz\n",
        "\n",
        "  # Install Packages\n",
        "  if [ \"$COLAB_GPU\" = \"1\" ]; then\n",
        "      JULIA_PACKAGES=\"$JULIA_PACKAGES $JULIA_PACKAGES_IF_GPU\"\n",
        "  fi\n",
        "  for PKG in `echo $JULIA_PACKAGES`; do\n",
        "    echo \"Installing Julia package $PKG...\"\n",
        "    julia -e 'using Pkg; pkg\"add '$PKG'; precompile;\"'\n",
        "  done\n",
        "\n",
        "  # Install kernel and rename it to \"julia\"\n",
        "  echo \"Installing IJulia kernel...\"\n",
        "  julia -e 'using IJulia; IJulia.installkernel(\"julia\", env=Dict(\n",
        "      \"JULIA_NUM_THREADS\"=>\"'\"$JULIA_NUM_THREADS\"'\"))'\n",
        "  KERNEL_DIR=`julia -e \"using IJulia; print(IJulia.kerneldir())\"`\n",
        "  KERNEL_NAME=`ls -d \"$KERNEL_DIR\"/julia*`\n",
        "  mv -f $KERNEL_NAME \"$KERNEL_DIR\"/julia  \n",
        "\n",
        "  echo ''\n",
        "  echo \"Successfully installed `julia -v`!\"\n",
        "  echo \"Please reload this page (press Ctrl+R, ⌘+R, or the F5 key) then\"\n",
        "  echo \"jump to the 'Checking the Installation' section.\"\n",
        "fi"
      ],
      "execution_count": null,
      "outputs": [
        {
          "output_type": "stream",
          "text": [
            "Installing Julia 1.4.2 on the current Colab Runtime...\n",
            "2020-11-23 02:30:22 URL:https://storage.googleapis.com/julialang2/bin/linux/x64/1.4/julia-1.4.2-linux-x86_64.tar.gz [99093958/99093958] -> \"/tmp/julia.tar.gz\" [1]\n",
            "Installing Julia package IJulia...\n",
            "    Cloning default registries into `~/.julia`\n",
            "    Cloning registry from \"https://github.com/JuliaRegistries/General.git\"\n",
            "\u001b[2K\u001b[?25h      Added registry `General` to `~/.julia/registries/General`\n",
            "  Resolving package versions...\n",
            "  Installed Artifacts ─────── v1.3.0\n",
            "  Installed VersionParsing ── v1.2.0\n",
            "  Installed MbedTLS_jll ───── v2.16.8+1\n",
            "  Installed Parsers ───────── v1.0.12\n",
            "  Installed SoftGlobalScope ─ v1.1.0\n",
            "  Installed IJulia ────────── v1.23.0\n",
            "  Installed JLLWrappers ───── v1.1.3\n",
            "  Installed ZeroMQ_jll ────── v4.3.2+5\n",
            "  Installed JSON ──────────── v0.21.1\n",
            "  Installed MbedTLS ───────── v1.0.3\n",
            "  Installed Conda ─────────── v1.5.0\n",
            "  Installed ZMQ ───────────── v1.2.1\n",
            "Downloading artifact: MbedTLS\n",
            "######################################################################## 100.0%\n",
            "\u001b[1A\u001b[2K\u001b[?25hDownloading artifact: ZeroMQ\n",
            "######################################################################## 100.0%\n",
            "\u001b[1A\u001b[2K\u001b[?25h   Updating `~/.julia/environments/v1.4/Project.toml`\n",
            "  [7073ff75] + IJulia v1.23.0\n",
            "   Updating `~/.julia/environments/v1.4/Manifest.toml`\n",
            "  [56f22d72] + Artifacts v1.3.0\n",
            "  [8f4d0f93] + Conda v1.5.0\n",
            "  [7073ff75] + IJulia v1.23.0\n",
            "  [692b3bcd] + JLLWrappers v1.1.3\n",
            "  [682c06a0] + JSON v0.21.1\n",
            "  [739be429] + MbedTLS v1.0.3\n",
            "  [c8ffd9c3] + MbedTLS_jll v2.16.8+1\n",
            "  [69de0a69] + Parsers v1.0.12\n",
            "  [b85f4697] + SoftGlobalScope v1.1.0\n",
            "  [81def892] + VersionParsing v1.2.0\n",
            "  [c2297ded] + ZMQ v1.2.1\n",
            "  [8f1865be] + ZeroMQ_jll v4.3.2+5\n",
            "  [2a0f44e3] + Base64 \n",
            "  [ade2ca70] + Dates \n",
            "  [8ba89e20] + Distributed \n",
            "  [7b1f6079] + FileWatching \n",
            "  [b77e0a4c] + InteractiveUtils \n",
            "  [76f85450] + LibGit2 \n",
            "  [8f399da3] + Libdl \n",
            "  [56ddb016] + Logging \n",
            "  [d6f4376e] + Markdown \n",
            "  [a63ad114] + Mmap \n",
            "  [44cfe95a] + Pkg \n",
            "  [de0858da] + Printf \n",
            "  [3fa0cd96] + REPL \n",
            "  [9a3f8284] + Random \n",
            "  [ea8e919c] + SHA \n",
            "  [9e88b42a] + Serialization \n",
            "  [6462fe0b] + Sockets \n",
            "  [8dfed614] + Test \n",
            "  [cf7118a7] + UUIDs \n",
            "  [4ec0a83e] + Unicode \n",
            "   Building Conda ─→ `~/.julia/packages/Conda/x5ml4/deps/build.log`\n",
            "   Building IJulia → `~/.julia/packages/IJulia/ljYVo/deps/build.log`\n",
            "Precompiling project...\n",
            "Installing Julia package BenchmarkTools...\n",
            "   Updating registry at `~/.julia/registries/General`\n",
            "   Updating git-repo `https://github.com/JuliaRegistries/General.git`\n",
            "\u001b[?25l\u001b[2K\u001b[?25h  Resolving package versions...\n",
            "  Installed BenchmarkTools ─ v0.5.0\n",
            "   Updating `~/.julia/environments/v1.4/Project.toml`\n",
            "  [6e4b80f9] + BenchmarkTools v0.5.0\n",
            "   Updating `~/.julia/environments/v1.4/Manifest.toml`\n",
            "  [6e4b80f9] + BenchmarkTools v0.5.0\n",
            "  [37e2e46d] + LinearAlgebra \n",
            "  [2f01184e] + SparseArrays \n",
            "  [10745b16] + Statistics \n",
            "Precompiling project...\n",
            "Installing Julia package PyCall...\n",
            "   Updating registry at `~/.julia/registries/General`\n",
            "   Updating git-repo `https://github.com/JuliaRegistries/General.git`\n",
            "\u001b[?25l\u001b[2K\u001b[?25h  Resolving package versions...\n",
            "  Installed MacroTools ─ v0.5.6\n",
            "  Installed PyCall ───── v1.92.1\n",
            "   Updating `~/.julia/environments/v1.4/Project.toml`\n",
            "  [438e738f] + PyCall v1.92.1\n",
            "   Updating `~/.julia/environments/v1.4/Manifest.toml`\n",
            "  [1914dd2f] + MacroTools v0.5.6\n",
            "  [438e738f] + PyCall v1.92.1\n",
            "   Building PyCall → `~/.julia/packages/PyCall/BcTLp/deps/build.log`\n",
            "Precompiling project...\n",
            "Installing Julia package PyPlot...\n",
            "   Updating registry at `~/.julia/registries/General`\n",
            "   Updating git-repo `https://github.com/JuliaRegistries/General.git`\n",
            "\u001b[?25l\u001b[2K\u001b[?25h  Resolving package versions...\n",
            "  Installed Reexport ────────── v0.2.0\n",
            "  Installed PyPlot ──────────── v2.9.0\n",
            "  Installed LaTeXStrings ────── v1.2.0\n",
            "  Installed FixedPointNumbers ─ v0.8.4\n",
            "  Installed ColorTypes ──────── v0.10.9\n",
            "  Installed Colors ──────────── v0.12.4\n",
            "   Updating `~/.julia/environments/v1.4/Project.toml`\n",
            "  [d330b81b] + PyPlot v2.9.0\n",
            "   Updating `~/.julia/environments/v1.4/Manifest.toml`\n",
            "  [3da002f7] + ColorTypes v0.10.9\n",
            "  [5ae59095] + Colors v0.12.4\n",
            "  [53c48c17] + FixedPointNumbers v0.8.4\n",
            "  [b964fa9f] + LaTeXStrings v1.2.0\n",
            "  [d330b81b] + PyPlot v2.9.0\n",
            "  [189a3867] + Reexport v0.2.0\n",
            "Precompiling project...\n",
            "Installing IJulia kernel...\n",
            "[ Info: Installing julia kernelspec in /root/.local/share/jupyter/kernels/julia-1.4\n",
            "\n",
            "Successfully installed julia version 1.4.2!\n",
            "Please reload this page (press Ctrl+R, ⌘+R, or the F5 key) then\n",
            "jump to the 'Checking the Installation' section.\n"
          ],
          "name": "stdout"
        },
        {
          "output_type": "execute_result",
          "data": {
            "text/plain": [
              ""
            ]
          },
          "metadata": {
            "tags": []
          },
          "execution_count": 8
        }
      ]
    },
    {
      "cell_type": "code",
      "metadata": {
        "id": "GIeFXS0F0zww",
        "colab": {
          "base_uri": "https://localhost:8080/"
        },
        "outputId": "f50176b7-bce8-4865-ca48-17e993323269"
      },
      "source": [
        "println(\"Hello\")\n",
        "println(\"HI\");"
      ],
      "execution_count": null,
      "outputs": [
        {
          "output_type": "stream",
          "text": [
            "Hello\n",
            "HI\n"
          ],
          "name": "stdout"
        }
      ]
    },
    {
      "cell_type": "code",
      "metadata": {
        "colab": {
          "base_uri": "https://localhost:8080/",
          "height": 1000
        },
        "id": "9l8rC5Jk86Y7",
        "outputId": "48b458b5-3f08-4710-e0b9-27e7e6c58aa3"
      },
      "source": [
        "import Pkg\n",
        "Pkg.add(\"Plots\")\n"
      ],
      "execution_count": null,
      "outputs": [
        {
          "output_type": "stream",
          "text": [
            "\u001b[32m\u001b[1m  Resolving\u001b[22m\u001b[39m package versions...\n",
            "\u001b[32m\u001b[1m   Updating\u001b[22m\u001b[39m `~/.julia/environments/v1.4/Project.toml`\n",
            "\u001b[90m [no changes]\u001b[39m\n",
            "\u001b[32m\u001b[1m   Updating\u001b[22m\u001b[39m `~/.julia/environments/v1.4/Manifest.toml`\n",
            "\u001b[90m [no changes]\u001b[39m\n",
            "┌ Info: Precompiling Plots [91a5bcdd-55d7-5caf-9e0b-520d859cae80]\n",
            "└ @ Base loading.jl:1260\n",
            "ERROR: ERROR: LoadError: LoadError: LoadError: fatal: error thrown and no exception handler available.\n",
            "InterruptException()\n",
            "fatal: error thrown and no exception handler available.\n",
            "InterruptException()\n",
            "jl_mutex_unlock at /buildworker/worker/package_linux64/build/src/locks.h:143 [inlined]\n",
            "jl_compile_method_internal at /buildworker/worker/package_linux64/build/src/gf.c:1912\n",
            "_jl_invoke at /buildworker/worker/package_linux64/build/src/gf.c:2154 [inlined]\n",
            "jl_apply_generic at /buildworker/worker/package_linux64/build/src/gf.c:2323\n",
            "#showerror#651 at ./errorshow.jl:85\n",
            "showerror##kw at ./errorshow.jl:84\n",
            "unknown function (ip: 0x7fd8b410b36b)\n",
            "_jl_invoke at /buildworker/worker/package_linux64/build/src/gf.c:2159 [inlined]\n",
            "jl_apply_generic at /buildworker/worker/package_linux64/build/src/gf.c:2323\n",
            "show_exception_stack at ./errorshow.jl:705\n",
            "display_error at ./client.jl:104\n",
            "_jl_invoke at /buildworker/worker/package_linux64/build/src/gf.c:2159 [inlined]\n",
            "jl_apply_generic at /buildworker/worker/package_linux64/build/src/gf.c:2323\n",
            "display_error at ./client.jl:106\n",
            "_jl_invoke at /buildworker/worker/package_linux64/build/src/gf.c:2159 [inlined]\n",
            "jl_apply_generic at /buildworker/worker/package_linux64/build/src/gf.c:2323\n",
            "jl_apply at /buildworker/worker/package_linux64/build/src/julia.h:1700 [inlined]\n",
            "do_apply at /buildworker/worker/package_linux64/build/src/builtins.c:643\n",
            "jl_f__apply_latest at /buildworker/worker/package_linux64/build/src/builtins.c:693\n",
            "#invokelatest#1 at ./essentials.jl:712 [inlined]\n",
            "invokelatest at ./essentials.jl:711 [inlined]\n",
            "_start at ./client.jl:486\n",
            "jfptr__start_2075.clone_1 at /usr/local/lib/julia/sys.so (unknown line)\n",
            "_jl_invoke at /buildworker/worker/package_linux64/build/src/gf.c:2145 [inlined]\n",
            "jl_apply_generic at /buildworker/worker/package_linux64/build/src/gf.c:2323\n",
            "jl_apply at /buildworker/worker/package_linux64/build/ui/../src/julia.h:1700 [inlined]\n",
            "true_main at /buildworker/worker/package_linux64/build/ui/repl.c:96\n",
            "main at /buildworker/worker/package_linux64/build/ui/repl.c:217\n",
            "__libc_start_main at /lib/x86_64-linux-gnu/libc.so.6 (unknown line)\n",
            "_start at /usr/local/bin/julia (unknown line)\n",
            "jl_mutex_unlock at /buildworker/worker/package_linux64/build/src/locks.h:143\n",
            "jl_compile_method_internal at /buildworker/worker/package_linux64/build/src/gf.c:1913\n",
            "_jl_invoke at /buildworker/worker/package_linux64/build/src/gf.c:2154 [inlined]\n",
            "jl_apply_generic at /buildworker/worker/package_linux64/build/src/gf.c:2323\n",
            "#showerror#651 at ./errorshow.jl:85\n",
            "showerror##kw at ./errorshow.jl:84\n",
            "unknown function (ip: 0x7fe0df982e5b)\n",
            "_jl_invoke at /buildworker/worker/package_linux64/build/src/gf.c:2145 [inlined]\n",
            "jl_apply_generic at /buildworker/worker/package_linux64/build/src/gf.c:2323\n",
            "#showerror#651 at ./errorshow.jl:85\n",
            "showerror##kw at ./errorshow.jl:84\n",
            "unknown function (ip: 0x7fe0df982e5b)\n",
            "_jl_invoke at /buildworker/worker/package_linux64/build/src/gf.c:2159 [inlined]\n",
            "jl_apply_generic at /buildworker/worker/package_linux64/build/src/gf.c:2323\n",
            "show_exception_stack at ./errorshow.jl:705\n",
            "display_error at ./client.jl:104\n",
            "_jl_invoke at /buildworker/worker/package_linux64/build/src/gf.c:2159 [inlined]\n",
            "jl_apply_generic at /buildworker/worker/package_linux64/build/src/gf.c:2323\n",
            "display_error at ./client.jl:106\n",
            "_jl_invoke at /buildworker/worker/package_linux64/build/src/gf.c:2159 [inlined]\n",
            "jl_apply_generic at /buildworker/worker/package_linux64/build/src/gf.c:2323\n",
            "jl_apply at /buildworker/worker/package_linux64/build/src/julia.h:1700 [inlined]\n",
            "do_apply at /buildworker/worker/package_linux64/build/src/builtins.c:643\n",
            "jl_f__apply_latest at /buildworker/worker/package_linux64/build/src/builtins.c:693\n"
          ],
          "name": "stderr"
        },
        {
          "output_type": "error",
          "ename": "ErrorException",
          "evalue": "ignored",
          "traceback": [
            "Failed to precompile Plots [91a5bcdd-55d7-5caf-9e0b-520d859cae80] to /root/.julia/compiled/v1.4/Plots/ld3vC_E7K7w.ji.",
            "",
            "Stacktrace:",
            " [1] error(::String) at ./error.jl:33",
            " [2] compilecache(::Base.PkgId, ::String) at ./loading.jl:1272",
            " [3] _require(::Base.PkgId) at ./loading.jl:1029",
            " [4] require(::Base.PkgId) at ./loading.jl:927",
            " [5] require(::Module, ::Symbol) at ./loading.jl:922",
            " [6] top-level scope at In[13]:3"
          ]
        },
        {
          "output_type": "stream",
          "text": [
            "#invokelatest#1 at ./essentials.jl:712 [inlined]\n",
            "invokelatest at ./essentials.jl:711 [inlined]\n",
            "_start at ./client.jl:486\n",
            "jfptr__start_2075.clone_1 at /usr/local/lib/julia/sys.so (unknown line)\n",
            "_jl_invoke at /buildworker/worker/package_linux64/build/src/gf.c:2145 [inlined]\n",
            "jl_apply_generic at /buildworker/worker/package_linux64/build/src/gf.c:2323\n",
            "jl_apply at /buildworker/worker/package_linux64/build/ui/../src/julia.h:1700 [inlined]\n",
            "true_main at /buildworker/worker/package_linux64/build/ui/repl.c:96\n",
            "main at /buildworker/worker/package_linux64/build/ui/repl.c:217\n",
            "__libc_start_main at /lib/x86_64-linux-gnu/libc.so.6 (unknown line)\n",
            "_start at /usr/local/bin/julia (unknown line)\n"
          ],
          "name": "stderr"
        }
      ]
    },
    {
      "cell_type": "code",
      "metadata": {
        "colab": {
          "base_uri": "https://localhost:8080/",
          "height": 165
        },
        "id": "03ZYxH6L-yXm",
        "outputId": "00039f7b-dca9-4b3b-ccf1-410046dfebfa"
      },
      "source": [
        "using Plots\n",
        "srand(123)"
      ],
      "execution_count": null,
      "outputs": [
        {
          "output_type": "stream",
          "text": [
            "┌ Info: Precompiling Plots [91a5bcdd-55d7-5caf-9e0b-520d859cae80]\n",
            "└ @ Base loading.jl:1260\n"
          ],
          "name": "stderr"
        },
        {
          "output_type": "error",
          "ename": "UndefVarError",
          "evalue": "ignored",
          "traceback": [
            "UndefVarError: srand not defined",
            "",
            "Stacktrace:",
            " [1] top-level scope at In[18]:2"
          ]
        }
      ]
    },
    {
      "cell_type": "markdown",
      "metadata": {
        "id": "GGSwf9W0OXIQ"
      },
      "source": [
        "import Pkg # allow package imports\n",
        "\n",
        "\n",
        "\n",
        "\n",
        "Pkg.add(\"your specific package name here\" #import package"
      ]
    },
    {
      "cell_type": "code",
      "metadata": {
        "colab": {
          "base_uri": "https://localhost:8080/",
          "height": 373
        },
        "id": "kvesknUiDYwr",
        "outputId": "a2b2b44d-7dcc-42d0-c4be-8b8c2d4c6c1b"
      },
      "source": [
        "# allow package imports\n",
        "import Pkg \n",
        "\n",
        "\n",
        "# import packages\n",
        "Pkg.add(\"Plots\")\n",
        "Pkg.add(\"CSV\")\n",
        "Pkg.add(\"DataFrames\")\n",
        "Pkg.add(\"HTTP\")\n"
      ],
      "execution_count": null,
      "outputs": [
        {
          "output_type": "error",
          "ename": "ModuleNotFoundError",
          "evalue": "ignored",
          "traceback": [
            "\u001b[0;31m---------------------------------------------------------------------------\u001b[0m",
            "\u001b[0;31mModuleNotFoundError\u001b[0m                       Traceback (most recent call last)",
            "\u001b[0;32m<ipython-input-3-f231ed52ebe1>\u001b[0m in \u001b[0;36m<module>\u001b[0;34m()\u001b[0m\n\u001b[1;32m      1\u001b[0m \u001b[0;31m# allow package imports\u001b[0m\u001b[0;34m\u001b[0m\u001b[0;34m\u001b[0m\u001b[0;34m\u001b[0m\u001b[0m\n\u001b[0;32m----> 2\u001b[0;31m \u001b[0;32mimport\u001b[0m \u001b[0mPkg\u001b[0m\u001b[0;34m\u001b[0m\u001b[0;34m\u001b[0m\u001b[0m\n\u001b[0m\u001b[1;32m      3\u001b[0m \u001b[0;34m\u001b[0m\u001b[0m\n\u001b[1;32m      4\u001b[0m \u001b[0;34m\u001b[0m\u001b[0m\n\u001b[1;32m      5\u001b[0m \u001b[0;31m# import packages\u001b[0m\u001b[0;34m\u001b[0m\u001b[0;34m\u001b[0m\u001b[0;34m\u001b[0m\u001b[0m\n",
            "\u001b[0;31mModuleNotFoundError\u001b[0m: No module named 'Pkg'",
            "",
            "\u001b[0;31m---------------------------------------------------------------------------\u001b[0;32m\nNOTE: If your import is failing due to a missing package, you can\nmanually install dependencies using either !pip or !apt.\n\nTo view examples of installing some common dependencies, click the\n\"Open Examples\" button below.\n\u001b[0;31m---------------------------------------------------------------------------\u001b[0m\n"
          ]
        }
      ]
    },
    {
      "cell_type": "code",
      "metadata": {
        "colab": {
          "base_uri": "https://localhost:8080/",
          "height": 130
        },
        "id": "xUuHP9_bDb9E",
        "outputId": "33ff9719-a9cf-48e3-9858-c1f91cb76f15"
      },
      "source": [
        "using Plots\n",
        "plot(rand(5,5),linewidth = 2,title=\"simple plot\")"
      ],
      "execution_count": null,
      "outputs": [
        {
          "output_type": "error",
          "ename": "SyntaxError",
          "evalue": "ignored",
          "traceback": [
            "\u001b[0;36m  File \u001b[0;32m\"<ipython-input-2-06a2a5bf4553>\"\u001b[0;36m, line \u001b[0;32m1\u001b[0m\n\u001b[0;31m    using Plots\u001b[0m\n\u001b[0m              ^\u001b[0m\n\u001b[0;31mSyntaxError\u001b[0m\u001b[0;31m:\u001b[0m invalid syntax\n"
          ]
        }
      ]
    },
    {
      "cell_type": "code",
      "metadata": {
        "colab": {
          "base_uri": "https://localhost:8080/",
          "height": 421
        },
        "id": "y744BAX2GFVe",
        "outputId": "cb237884-35de-40c3-d157-299e3f48459e"
      },
      "source": [
        "x = 1:10; y = rand(10); # These are the plotting data \n",
        "plot(x,y, label=\"my label\")"
      ],
      "execution_count": null,
      "outputs": [
        {
          "output_type": "execute_result",
          "data": {
            "image/svg+xml": "<?xml version=\"1.0\" encoding=\"utf-8\"?>\n<svg xmlns=\"http://www.w3.org/2000/svg\" xmlns:xlink=\"http://www.w3.org/1999/xlink\" width=\"600\" height=\"400\" viewBox=\"0 0 2400 1600\">\n<defs>\n  <clipPath id=\"clip700\">\n    <rect x=\"0\" y=\"0\" width=\"2400\" height=\"1600\"/>\n  </clipPath>\n</defs>\n<path clip-path=\"url(#clip700)\" d=\"\nM0 1600 L2400 1600 L2400 0 L0 0  Z\n  \" fill=\"#ffffff\" fill-rule=\"evenodd\" fill-opacity=\"1\"/>\n<defs>\n  <clipPath id=\"clip701\">\n    <rect x=\"480\" y=\"0\" width=\"1681\" height=\"1600\"/>\n  </clipPath>\n</defs>\n<path clip-path=\"url(#clip700)\" d=\"\nM148.334 1486.45 L2352.76 1486.45 L2352.76 47.2441 L148.334 47.2441  Z\n  \" fill=\"#ffffff\" fill-rule=\"evenodd\" fill-opacity=\"1\"/>\n<defs>\n  <clipPath id=\"clip702\">\n    <rect x=\"148\" y=\"47\" width=\"2205\" height=\"1440\"/>\n  </clipPath>\n</defs>\n<polyline clip-path=\"url(#clip702)\" style=\"stroke:#000000; stroke-width:2; stroke-opacity:0.1; fill:none\" points=\"\n  441.795,1486.45 441.795,47.2441 \n  \"/>\n<polyline clip-path=\"url(#clip702)\" style=\"stroke:#000000; stroke-width:2; stroke-opacity:0.1; fill:none\" points=\"\n  903.938,1486.45 903.938,47.2441 \n  \"/>\n<polyline clip-path=\"url(#clip702)\" style=\"stroke:#000000; stroke-width:2; stroke-opacity:0.1; fill:none\" points=\"\n  1366.08,1486.45 1366.08,47.2441 \n  \"/>\n<polyline clip-path=\"url(#clip702)\" style=\"stroke:#000000; stroke-width:2; stroke-opacity:0.1; fill:none\" points=\"\n  1828.22,1486.45 1828.22,47.2441 \n  \"/>\n<polyline clip-path=\"url(#clip702)\" style=\"stroke:#000000; stroke-width:2; stroke-opacity:0.1; fill:none\" points=\"\n  2290.37,1486.45 2290.37,47.2441 \n  \"/>\n<polyline clip-path=\"url(#clip700)\" style=\"stroke:#000000; stroke-width:4; stroke-opacity:1; fill:none\" points=\"\n  148.334,1486.45 2352.76,1486.45 \n  \"/>\n<polyline clip-path=\"url(#clip700)\" style=\"stroke:#000000; stroke-width:4; stroke-opacity:1; fill:none\" points=\"\n  441.795,1486.45 441.795,1469.18 \n  \"/>\n<polyline clip-path=\"url(#clip700)\" style=\"stroke:#000000; stroke-width:4; stroke-opacity:1; fill:none\" points=\"\n  903.938,1486.45 903.938,1469.18 \n  \"/>\n<polyline clip-path=\"url(#clip700)\" style=\"stroke:#000000; stroke-width:4; stroke-opacity:1; fill:none\" points=\"\n  1366.08,1486.45 1366.08,1469.18 \n  \"/>\n<polyline clip-path=\"url(#clip700)\" style=\"stroke:#000000; stroke-width:4; stroke-opacity:1; fill:none\" points=\"\n  1828.22,1486.45 1828.22,1469.18 \n  \"/>\n<polyline clip-path=\"url(#clip700)\" style=\"stroke:#000000; stroke-width:4; stroke-opacity:1; fill:none\" points=\"\n  2290.37,1486.45 2290.37,1469.18 \n  \"/>\n<path clip-path=\"url(#clip700)\" d=\"M 0 0 M436.448 1543.18 L452.767 1543.18 L452.767 1547.12 L430.823 1547.12 L430.823 1543.18 Q433.485 1540.43 438.068 1535.8 Q442.675 1531.15 443.855 1529.81 Q446.101 1527.28 446.98 1525.55 Q447.883 1523.79 447.883 1522.1 Q447.883 1519.34 445.939 1517.61 Q444.017 1515.87 440.915 1515.87 Q438.716 1515.87 436.263 1516.63 Q433.832 1517.4 431.054 1518.95 L431.054 1514.23 Q433.878 1513.09 436.332 1512.51 Q438.786 1511.93 440.823 1511.93 Q446.193 1511.93 449.388 1514.62 Q452.582 1517.31 452.582 1521.8 Q452.582 1523.93 451.772 1525.85 Q450.985 1527.74 448.878 1530.34 Q448.3 1531.01 445.198 1534.23 Q442.096 1537.42 436.448 1543.18 Z\" fill=\"#000000\" fill-rule=\"evenodd\" fill-opacity=\"1\" /><path clip-path=\"url(#clip700)\" d=\"M 0 0 M906.947 1516.63 L895.142 1535.08 L906.947 1535.08 L906.947 1516.63 M905.72 1512.56 L911.6 1512.56 L911.6 1535.08 L916.531 1535.08 L916.531 1538.97 L911.6 1538.97 L911.6 1547.12 L906.947 1547.12 L906.947 1538.97 L891.345 1538.97 L891.345 1534.46 L905.72 1512.56 Z\" fill=\"#000000\" fill-rule=\"evenodd\" fill-opacity=\"1\" /><path clip-path=\"url(#clip700)\" d=\"M 0 0 M1366.49 1527.98 Q1363.34 1527.98 1361.49 1530.13 Q1359.66 1532.28 1359.66 1536.03 Q1359.66 1539.76 1361.49 1541.93 Q1363.34 1544.09 1366.49 1544.09 Q1369.63 1544.09 1371.46 1541.93 Q1373.31 1539.76 1373.31 1536.03 Q1373.31 1532.28 1371.46 1530.13 Q1369.63 1527.98 1366.49 1527.98 M1375.77 1513.32 L1375.77 1517.58 Q1374.01 1516.75 1372.2 1516.31 Q1370.42 1515.87 1368.66 1515.87 Q1364.03 1515.87 1361.58 1519 Q1359.15 1522.12 1358.8 1528.44 Q1360.17 1526.43 1362.23 1525.36 Q1364.29 1524.27 1366.76 1524.27 Q1371.97 1524.27 1374.98 1527.44 Q1378.01 1530.59 1378.01 1536.03 Q1378.01 1541.36 1374.87 1544.57 Q1371.72 1547.79 1366.49 1547.79 Q1360.49 1547.79 1357.32 1543.21 Q1354.15 1538.6 1354.15 1529.87 Q1354.15 1521.68 1358.04 1516.82 Q1361.93 1511.93 1368.48 1511.93 Q1370.24 1511.93 1372.02 1512.28 Q1373.82 1512.63 1375.77 1513.32 Z\" fill=\"#000000\" fill-rule=\"evenodd\" fill-opacity=\"1\" /><path clip-path=\"url(#clip700)\" d=\"M 0 0 M1828.22 1530.71 Q1824.89 1530.71 1822.97 1532.49 Q1821.07 1534.27 1821.07 1537.4 Q1821.07 1540.52 1822.97 1542.31 Q1824.89 1544.09 1828.22 1544.09 Q1831.56 1544.09 1833.48 1542.31 Q1835.4 1540.5 1835.4 1537.4 Q1835.4 1534.27 1833.48 1532.49 Q1831.58 1530.71 1828.22 1530.71 M1823.55 1528.72 Q1820.54 1527.98 1818.85 1525.92 Q1817.18 1523.86 1817.18 1520.89 Q1817.18 1516.75 1820.12 1514.34 Q1823.08 1511.93 1828.22 1511.93 Q1833.39 1511.93 1836.33 1514.34 Q1839.27 1516.75 1839.27 1520.89 Q1839.27 1523.86 1837.58 1525.92 Q1835.91 1527.98 1832.92 1528.72 Q1836.3 1529.5 1838.18 1531.8 Q1840.08 1534.09 1840.08 1537.4 Q1840.08 1542.42 1837 1545.11 Q1833.94 1547.79 1828.22 1547.79 Q1822.51 1547.79 1819.43 1545.11 Q1816.37 1542.42 1816.37 1537.4 Q1816.37 1534.09 1818.27 1531.8 Q1820.17 1529.5 1823.55 1528.72 M1821.83 1521.33 Q1821.83 1524.02 1823.5 1525.52 Q1825.19 1527.03 1828.22 1527.03 Q1831.23 1527.03 1832.92 1525.52 Q1834.64 1524.02 1834.64 1521.33 Q1834.64 1518.65 1832.92 1517.14 Q1831.23 1515.64 1828.22 1515.64 Q1825.19 1515.64 1823.5 1517.14 Q1821.83 1518.65 1821.83 1521.33 Z\" fill=\"#000000\" fill-rule=\"evenodd\" fill-opacity=\"1\" /><path clip-path=\"url(#clip700)\" d=\"M 0 0 M2267.24 1543.18 L2274.88 1543.18 L2274.88 1516.82 L2266.57 1518.49 L2266.57 1514.23 L2274.83 1512.56 L2279.51 1512.56 L2279.51 1543.18 L2287.15 1543.18 L2287.15 1547.12 L2267.24 1547.12 L2267.24 1543.18 Z\" fill=\"#000000\" fill-rule=\"evenodd\" fill-opacity=\"1\" /><path clip-path=\"url(#clip700)\" d=\"M 0 0 M2302.22 1515.64 Q2298.61 1515.64 2296.78 1519.2 Q2294.97 1522.75 2294.97 1529.87 Q2294.97 1536.98 2296.78 1540.55 Q2298.61 1544.09 2302.22 1544.09 Q2305.85 1544.09 2307.66 1540.55 Q2309.49 1536.98 2309.49 1529.87 Q2309.49 1522.75 2307.66 1519.2 Q2305.85 1515.64 2302.22 1515.64 M2302.22 1511.93 Q2308.03 1511.93 2311.08 1516.54 Q2314.16 1521.12 2314.16 1529.87 Q2314.16 1538.6 2311.08 1543.21 Q2308.03 1547.79 2302.22 1547.79 Q2296.41 1547.79 2293.33 1543.21 Q2290.27 1538.6 2290.27 1529.87 Q2290.27 1521.12 2293.33 1516.54 Q2296.41 1511.93 2302.22 1511.93 Z\" fill=\"#000000\" fill-rule=\"evenodd\" fill-opacity=\"1\" /><polyline clip-path=\"url(#clip702)\" style=\"stroke:#000000; stroke-width:2; stroke-opacity:0.1; fill:none\" points=\"\n  148.334,1254.32 2352.76,1254.32 \n  \"/>\n<polyline clip-path=\"url(#clip702)\" style=\"stroke:#000000; stroke-width:2; stroke-opacity:0.1; fill:none\" points=\"\n  148.334,939.561 2352.76,939.561 \n  \"/>\n<polyline clip-path=\"url(#clip702)\" style=\"stroke:#000000; stroke-width:2; stroke-opacity:0.1; fill:none\" points=\"\n  148.334,624.807 2352.76,624.807 \n  \"/>\n<polyline clip-path=\"url(#clip702)\" style=\"stroke:#000000; stroke-width:2; stroke-opacity:0.1; fill:none\" points=\"\n  148.334,310.052 2352.76,310.052 \n  \"/>\n<polyline clip-path=\"url(#clip700)\" style=\"stroke:#000000; stroke-width:4; stroke-opacity:1; fill:none\" points=\"\n  148.334,1486.45 148.334,47.2441 \n  \"/>\n<polyline clip-path=\"url(#clip700)\" style=\"stroke:#000000; stroke-width:4; stroke-opacity:1; fill:none\" points=\"\n  148.334,1254.32 174.787,1254.32 \n  \"/>\n<polyline clip-path=\"url(#clip700)\" style=\"stroke:#000000; stroke-width:4; stroke-opacity:1; fill:none\" points=\"\n  148.334,939.561 174.787,939.561 \n  \"/>\n<polyline clip-path=\"url(#clip700)\" style=\"stroke:#000000; stroke-width:4; stroke-opacity:1; fill:none\" points=\"\n  148.334,624.807 174.787,624.807 \n  \"/>\n<polyline clip-path=\"url(#clip700)\" style=\"stroke:#000000; stroke-width:4; stroke-opacity:1; fill:none\" points=\"\n  148.334,310.052 174.787,310.052 \n  \"/>\n<path clip-path=\"url(#clip700)\" d=\"M 0 0 M65.0198 1240.11 Q61.4087 1240.11 59.58 1243.68 Q57.7745 1247.22 57.7745 1254.35 Q57.7745 1261.46 59.58 1265.02 Q61.4087 1268.56 65.0198 1268.56 Q68.6541 1268.56 70.4596 1265.02 Q72.2883 1261.46 72.2883 1254.35 Q72.2883 1247.22 70.4596 1243.68 Q68.6541 1240.11 65.0198 1240.11 M65.0198 1236.41 Q70.83 1236.41 73.8855 1241.02 Q76.9642 1245.6 76.9642 1254.35 Q76.9642 1263.08 73.8855 1267.68 Q70.83 1272.27 65.0198 1272.27 Q59.2097 1272.27 56.131 1267.68 Q53.0754 1263.08 53.0754 1254.35 Q53.0754 1245.6 56.131 1241.02 Q59.2097 1236.41 65.0198 1236.41 Z\" fill=\"#000000\" fill-rule=\"evenodd\" fill-opacity=\"1\" /><path clip-path=\"url(#clip700)\" d=\"M 0 0 M82.0336 1265.72 L86.9179 1265.72 L86.9179 1271.6 L82.0336 1271.6 L82.0336 1265.72 Z\" fill=\"#000000\" fill-rule=\"evenodd\" fill-opacity=\"1\" /><path clip-path=\"url(#clip700)\" d=\"M 0 0 M96.015 1267.66 L112.334 1267.66 L112.334 1271.6 L90.3901 1271.6 L90.3901 1267.66 Q93.0521 1264.91 97.6354 1260.28 Q102.242 1255.62 103.422 1254.28 Q105.668 1251.76 106.547 1250.02 Q107.45 1248.26 107.45 1246.57 Q107.45 1243.82 105.506 1242.08 Q103.584 1240.35 100.483 1240.35 Q98.2835 1240.35 95.8298 1241.11 Q93.3993 1241.87 90.6215 1243.42 L90.6215 1238.7 Q93.4456 1237.57 95.8993 1236.99 Q98.353 1236.41 100.39 1236.41 Q105.76 1236.41 108.955 1239.1 Q112.149 1241.78 112.149 1246.27 Q112.149 1248.4 111.339 1250.32 Q110.552 1252.22 108.446 1254.81 Q107.867 1255.48 104.765 1258.7 Q101.663 1261.9 96.015 1267.66 Z\" fill=\"#000000\" fill-rule=\"evenodd\" fill-opacity=\"1\" /><path clip-path=\"url(#clip700)\" d=\"M 0 0 M62.9365 925.36 Q59.3254 925.36 57.4967 928.924 Q55.6912 932.466 55.6912 939.596 Q55.6912 946.702 57.4967 950.267 Q59.3254 953.808 62.9365 953.808 Q66.5707 953.808 68.3763 950.267 Q70.205 946.702 70.205 939.596 Q70.205 932.466 68.3763 928.924 Q66.5707 925.36 62.9365 925.36 M62.9365 921.656 Q68.7467 921.656 71.8022 926.262 Q74.8809 930.846 74.8809 939.596 Q74.8809 948.322 71.8022 952.929 Q68.7467 957.512 62.9365 957.512 Q57.1264 957.512 54.0477 952.929 Q50.9921 948.322 50.9921 939.596 Q50.9921 930.846 54.0477 926.262 Q57.1264 921.656 62.9365 921.656 Z\" fill=\"#000000\" fill-rule=\"evenodd\" fill-opacity=\"1\" /><path clip-path=\"url(#clip700)\" d=\"M 0 0 M79.9503 950.961 L84.8345 950.961 L84.8345 956.841 L79.9503 956.841 L79.9503 950.961 Z\" fill=\"#000000\" fill-rule=\"evenodd\" fill-opacity=\"1\" /><path clip-path=\"url(#clip700)\" d=\"M 0 0 M102.751 926.355 L90.9456 944.804 L102.751 944.804 L102.751 926.355 M101.524 922.281 L107.404 922.281 L107.404 944.804 L112.334 944.804 L112.334 948.693 L107.404 948.693 L107.404 956.841 L102.751 956.841 L102.751 948.693 L87.1493 948.693 L87.1493 944.179 L101.524 922.281 Z\" fill=\"#000000\" fill-rule=\"evenodd\" fill-opacity=\"1\" /><path clip-path=\"url(#clip700)\" d=\"M 0 0 M63.2606 610.605 Q59.6495 610.605 57.8208 614.17 Q56.0152 617.712 56.0152 624.841 Q56.0152 631.948 57.8208 635.513 Q59.6495 639.054 63.2606 639.054 Q66.8948 639.054 68.7004 635.513 Q70.5291 631.948 70.5291 624.841 Q70.5291 617.712 68.7004 614.17 Q66.8948 610.605 63.2606 610.605 M63.2606 606.902 Q69.0707 606.902 72.1263 611.508 Q75.205 616.091 75.205 624.841 Q75.205 633.568 72.1263 638.175 Q69.0707 642.758 63.2606 642.758 Q57.4504 642.758 54.3717 638.175 Q51.3162 633.568 51.3162 624.841 Q51.3162 616.091 54.3717 611.508 Q57.4504 606.902 63.2606 606.902 Z\" fill=\"#000000\" fill-rule=\"evenodd\" fill-opacity=\"1\" /><path clip-path=\"url(#clip700)\" d=\"M 0 0 M80.2744 636.207 L85.1586 636.207 L85.1586 642.087 L80.2744 642.087 L80.2744 636.207 Z\" fill=\"#000000\" fill-rule=\"evenodd\" fill-opacity=\"1\" /><path clip-path=\"url(#clip700)\" d=\"M 0 0 M100.807 622.943 Q97.6585 622.943 95.8067 625.096 Q93.978 627.249 93.978 630.999 Q93.978 634.726 95.8067 636.901 Q97.6585 639.054 100.807 639.054 Q103.955 639.054 105.783 636.901 Q107.635 634.726 107.635 630.999 Q107.635 627.249 105.783 625.096 Q103.955 622.943 100.807 622.943 M110.089 608.29 L110.089 612.55 Q108.33 611.716 106.524 611.277 Q104.742 610.837 102.983 610.837 Q98.353 610.837 95.8993 613.962 Q93.4688 617.087 93.1215 623.406 Q94.4873 621.392 96.5474 620.327 Q98.6076 619.239 101.084 619.239 Q106.293 619.239 109.302 622.411 Q112.334 625.559 112.334 630.999 Q112.334 636.323 109.186 639.54 Q106.038 642.758 100.807 642.758 Q94.8113 642.758 91.6401 638.175 Q88.4688 633.568 88.4688 624.841 Q88.4688 616.647 92.3576 611.786 Q96.2465 606.902 102.797 606.902 Q104.557 606.902 106.339 607.249 Q108.145 607.596 110.089 608.29 Z\" fill=\"#000000\" fill-rule=\"evenodd\" fill-opacity=\"1\" /><path clip-path=\"url(#clip700)\" d=\"M 0 0 M63.5152 295.851 Q59.9041 295.851 58.0754 299.416 Q56.2699 302.957 56.2699 310.087 Q56.2699 317.193 58.0754 320.758 Q59.9041 324.3 63.5152 324.3 Q67.1494 324.3 68.955 320.758 Q70.7837 317.193 70.7837 310.087 Q70.7837 302.957 68.955 299.416 Q67.1494 295.851 63.5152 295.851 M63.5152 292.147 Q69.3254 292.147 72.3809 296.754 Q75.4596 301.337 75.4596 310.087 Q75.4596 318.814 72.3809 323.42 Q69.3254 328.004 63.5152 328.004 Q57.7051 328.004 54.6264 323.42 Q51.5708 318.814 51.5708 310.087 Q51.5708 301.337 54.6264 296.754 Q57.7051 292.147 63.5152 292.147 Z\" fill=\"#000000\" fill-rule=\"evenodd\" fill-opacity=\"1\" /><path clip-path=\"url(#clip700)\" d=\"M 0 0 M80.529 321.453 L85.4132 321.453 L85.4132 327.332 L80.529 327.332 L80.529 321.453 Z\" fill=\"#000000\" fill-rule=\"evenodd\" fill-opacity=\"1\" /><path clip-path=\"url(#clip700)\" d=\"M 0 0 M100.483 310.92 Q97.1493 310.92 95.228 312.703 Q93.3299 314.485 93.3299 317.61 Q93.3299 320.735 95.228 322.518 Q97.1493 324.3 100.483 324.3 Q103.816 324.3 105.737 322.518 Q107.658 320.712 107.658 317.61 Q107.658 314.485 105.737 312.703 Q103.839 310.92 100.483 310.92 M95.8067 308.93 Q92.7975 308.189 91.1077 306.129 Q89.441 304.069 89.441 301.106 Q89.441 296.962 92.3808 294.555 Q95.3437 292.147 100.483 292.147 Q105.645 292.147 108.584 294.555 Q111.524 296.962 111.524 301.106 Q111.524 304.069 109.834 306.129 Q108.168 308.189 105.182 308.93 Q108.561 309.717 110.436 312.008 Q112.334 314.3 112.334 317.61 Q112.334 322.633 109.256 325.318 Q106.2 328.004 100.483 328.004 Q94.765 328.004 91.6864 325.318 Q88.6308 322.633 88.6308 317.61 Q88.6308 314.3 90.529 312.008 Q92.4271 309.717 95.8067 308.93 M94.0937 301.545 Q94.0937 304.231 95.7604 305.735 Q97.4502 307.24 100.483 307.24 Q103.492 307.24 105.182 305.735 Q106.895 304.231 106.895 301.545 Q106.895 298.86 105.182 297.356 Q103.492 295.851 100.483 295.851 Q97.4502 295.851 95.7604 297.356 Q94.0937 298.86 94.0937 301.545 Z\" fill=\"#000000\" fill-rule=\"evenodd\" fill-opacity=\"1\" /><polyline clip-path=\"url(#clip702)\" style=\"stroke:#009af9; stroke-width:4; stroke-opacity:1; fill:none\" points=\"\n  210.724,1445.72 441.795,832.59 672.867,87.9763 903.938,1442.32 1135.01,1432.24 1366.08,131.272 1597.15,241.266 1828.22,1288.49 2059.3,1390.25 2290.37,1349.32 \n  \n  \"/>\n<path clip-path=\"url(#clip700)\" d=\"\nM1858.44 216.178 L2279.28 216.178 L2279.28 95.2176 L1858.44 95.2176  Z\n  \" fill=\"#ffffff\" fill-rule=\"evenodd\" fill-opacity=\"1\"/>\n<polyline clip-path=\"url(#clip700)\" style=\"stroke:#000000; stroke-width:4; stroke-opacity:1; fill:none\" points=\"\n  1858.44,216.178 2279.28,216.178 2279.28,95.2176 1858.44,95.2176 1858.44,216.178 \n  \"/>\n<polyline clip-path=\"url(#clip700)\" style=\"stroke:#009af9; stroke-width:4; stroke-opacity:1; fill:none\" points=\"\n  1882.93,155.698 2029.89,155.698 \n  \"/>\n<path clip-path=\"url(#clip700)\" d=\"M 0 0 M2074.73 152.029 Q2076.33 149.158 2078.55 147.793 Q2080.77 146.427 2083.78 146.427 Q2087.84 146.427 2090.03 149.274 Q2092.23 152.098 2092.23 157.329 L2092.23 172.978 L2087.95 172.978 L2087.95 157.468 Q2087.95 153.742 2086.63 151.936 Q2085.31 150.13 2082.6 150.13 Q2079.29 150.13 2077.37 152.33 Q2075.45 154.529 2075.45 158.325 L2075.45 172.978 L2071.17 172.978 L2071.17 157.468 Q2071.17 153.718 2069.85 151.936 Q2068.53 150.13 2065.78 150.13 Q2062.51 150.13 2060.59 152.353 Q2058.67 154.552 2058.67 158.325 L2058.67 172.978 L2054.39 172.978 L2054.39 147.052 L2058.67 147.052 L2058.67 151.08 Q2060.13 148.695 2062.16 147.561 Q2064.2 146.427 2067 146.427 Q2069.83 146.427 2071.79 147.862 Q2073.78 149.297 2074.73 152.029 Z\" fill=\"#000000\" fill-rule=\"evenodd\" fill-opacity=\"1\" /><path clip-path=\"url(#clip700)\" d=\"M 0 0 M2107.49 175.385 Q2105.68 180.015 2103.97 181.427 Q2102.26 182.839 2099.39 182.839 L2095.98 182.839 L2095.98 179.274 L2098.48 179.274 Q2100.24 179.274 2101.21 178.44 Q2102.19 177.607 2103.37 174.505 L2104.13 172.561 L2093.65 147.052 L2098.16 147.052 L2106.26 167.329 L2114.36 147.052 L2118.88 147.052 L2107.49 175.385 Z\" fill=\"#000000\" fill-rule=\"evenodd\" fill-opacity=\"1\" /><path clip-path=\"url(#clip700)\" d=\"M 0 0 M2138.41 136.959 L2142.67 136.959 L2142.67 172.978 L2138.41 172.978 L2138.41 136.959 Z\" fill=\"#000000\" fill-rule=\"evenodd\" fill-opacity=\"1\" /><path clip-path=\"url(#clip700)\" d=\"M 0 0 M2158.92 159.945 Q2153.76 159.945 2151.77 161.126 Q2149.78 162.306 2149.78 165.154 Q2149.78 167.422 2151.26 168.765 Q2152.77 170.084 2155.33 170.084 Q2158.88 170.084 2161.01 167.584 Q2163.16 165.061 2163.16 160.894 L2163.16 159.945 L2158.92 159.945 M2167.42 158.186 L2167.42 172.978 L2163.16 172.978 L2163.16 169.042 Q2161.7 171.403 2159.52 172.538 Q2157.35 173.649 2154.2 173.649 Q2150.22 173.649 2147.86 171.427 Q2145.52 169.181 2145.52 165.431 Q2145.52 161.056 2148.44 158.834 Q2151.38 156.612 2157.19 156.612 L2163.16 156.612 L2163.16 156.195 Q2163.16 153.255 2161.21 151.658 Q2159.29 150.038 2155.8 150.038 Q2153.58 150.038 2151.47 150.57 Q2149.36 151.103 2147.42 152.167 L2147.42 148.232 Q2149.76 147.33 2151.96 146.89 Q2154.15 146.427 2156.24 146.427 Q2161.86 146.427 2164.64 149.343 Q2167.42 152.26 2167.42 158.186 Z\" fill=\"#000000\" fill-rule=\"evenodd\" fill-opacity=\"1\" /><path clip-path=\"url(#clip700)\" d=\"M 0 0 M2190.5 160.038 Q2190.5 155.339 2188.55 152.677 Q2186.63 149.992 2183.25 149.992 Q2179.87 149.992 2177.93 152.677 Q2176.01 155.339 2176.01 160.038 Q2176.01 164.737 2177.93 167.422 Q2179.87 170.084 2183.25 170.084 Q2186.63 170.084 2188.55 167.422 Q2190.5 164.737 2190.5 160.038 M2176.01 150.987 Q2177.35 148.672 2179.39 147.561 Q2181.45 146.427 2184.29 146.427 Q2189.02 146.427 2191.95 150.177 Q2194.92 153.927 2194.92 160.038 Q2194.92 166.149 2191.95 169.899 Q2189.02 173.649 2184.29 173.649 Q2181.45 173.649 2179.39 172.538 Q2177.35 171.403 2176.01 169.089 L2176.01 172.978 L2171.72 172.978 L2171.72 136.959 L2176.01 136.959 L2176.01 150.987 Z\" fill=\"#000000\" fill-rule=\"evenodd\" fill-opacity=\"1\" /><path clip-path=\"url(#clip700)\" d=\"M 0 0 M2221.56 158.95 L2221.56 161.033 L2201.98 161.033 Q2202.26 165.431 2204.62 167.746 Q2207 170.038 2211.24 170.038 Q2213.69 170.038 2215.98 169.436 Q2218.3 168.834 2220.57 167.63 L2220.57 171.658 Q2218.27 172.63 2215.87 173.14 Q2213.46 173.649 2210.98 173.649 Q2204.78 173.649 2201.14 170.038 Q2197.53 166.427 2197.53 160.269 Q2197.53 153.904 2200.96 150.177 Q2204.41 146.427 2210.24 146.427 Q2215.47 146.427 2218.51 149.806 Q2221.56 153.163 2221.56 158.95 M2217.3 157.7 Q2217.26 154.205 2215.33 152.121 Q2213.44 150.038 2210.29 150.038 Q2206.72 150.038 2204.57 152.052 Q2202.44 154.066 2202.12 157.723 L2217.3 157.7 Z\" fill=\"#000000\" fill-rule=\"evenodd\" fill-opacity=\"1\" /><path clip-path=\"url(#clip700)\" d=\"M 0 0 M2226.03 136.959 L2230.29 136.959 L2230.29 172.978 L2226.03 172.978 L2226.03 136.959 Z\" fill=\"#000000\" fill-rule=\"evenodd\" fill-opacity=\"1\" /></svg>\n"
          },
          "metadata": {
            "tags": []
          },
          "execution_count": 28
        }
      ]
    },
    {
      "cell_type": "code",
      "metadata": {
        "colab": {
          "base_uri": "https://localhost:8080/",
          "height": 165
        },
        "id": "8XlC6_oZH-nW",
        "outputId": "1ba7eb3d-2b13-43f5-a917-0fb40f7f3d69"
      },
      "source": [
        "using HTTP, DataFrames, CSV # load packages\n",
        "\n",
        "r = HTTP.get(\"https://raw.githubusercontent.com/nytimes/covid-19-data/master/us-states.csv\")\n",
        "d = HTTP.get(\"https://github.com/nytimes/covid-19-data/blob/master/us-states.csv\")\n",
        "url = \"https://raw.githubusercontent.com/nytimes/covid-19-data/master/us-states.csv\"\n",
        "\n",
        "using CSV\n",
        "CSV.read(url)\n",
        " \n",
        "\n"
      ],
      "execution_count": null,
      "outputs": [
        {
          "output_type": "error",
          "ename": "ArgumentError",
          "evalue": "ignored",
          "traceback": [
            "ArgumentError: provide a valid sink argument, like `using DataFrames; CSV.read(source, DataFrame)`",
            "",
            "Stacktrace:",
            " [1] read(::String, ::Nothing; copycols::Bool, kwargs::Base.Iterators.Pairs{Union{},Union{},Tuple{},NamedTuple{(),Tuple{}}}) at /root/.julia/packages/CSV/NSKNW/src/CSV.jl:43",
            " [2] read(::String, ::Nothing) at /root/.julia/packages/CSV/NSKNW/src/CSV.jl:42 (repeats 2 times)",
            " [3] top-level scope at In[88]:8"
          ]
        }
      ]
    },
    {
      "cell_type": "code",
      "metadata": {
        "colab": {
          "base_uri": "https://localhost:8080/"
        },
        "id": "NqTNqs--T7qF",
        "outputId": "e58c377e-c15c-4282-9578-4619a2af4236"
      },
      "source": [
        "using CSV\n",
        "\n",
        "url = \"https://raw.githubusercontent.com/nytimes/covid-19-data/master/us-states.csv\"\n",
        "CSV.File(download(url))\n",
        "d = download(\"https://raw.githubusercontent.com/nytimes/covid-19-data/master/us-states.csv\",\"us-states.csv\" )\n",
        "f = CSV.File(d)"
      ],
      "execution_count": null,
      "outputs": [
        {
          "output_type": "execute_result",
          "data": {
            "text/plain": [
              "14534-element CSV.File{true}:\n",
              " CSV.Row: (date = 2020-01-21, state = \"Washington\", fips = 53, cases = 1, deaths = 0)\n",
              " CSV.Row: (date = 2020-01-22, state = \"Washington\", fips = 53, cases = 1, deaths = 0)\n",
              " CSV.Row: (date = 2020-01-23, state = \"Washington\", fips = 53, cases = 1, deaths = 0)\n",
              " CSV.Row: (date = 2020-01-24, state = \"Illinois\", fips = 17, cases = 1, deaths = 0)\n",
              " CSV.Row: (date = 2020-01-24, state = \"Washington\", fips = 53, cases = 1, deaths = 0)\n",
              " CSV.Row: (date = 2020-01-25, state = \"California\", fips = 6, cases = 1, deaths = 0)\n",
              " CSV.Row: (date = 2020-01-25, state = \"Illinois\", fips = 17, cases = 1, deaths = 0)\n",
              " CSV.Row: (date = 2020-01-25, state = \"Washington\", fips = 53, cases = 1, deaths = 0)\n",
              " CSV.Row: (date = 2020-01-26, state = \"Arizona\", fips = 4, cases = 1, deaths = 0)\n",
              " CSV.Row: (date = 2020-01-26, state = \"California\", fips = 6, cases = 2, deaths = 0)\n",
              " CSV.Row: (date = 2020-01-26, state = \"Illinois\", fips = 17, cases = 1, deaths = 0)\n",
              " CSV.Row: (date = 2020-01-26, state = \"Washington\", fips = 53, cases = 1, deaths = 0)\n",
              " CSV.Row: (date = 2020-01-27, state = \"Arizona\", fips = 4, cases = 1, deaths = 0)\n",
              " ⋮\n",
              " CSV.Row: (date = 2020-11-21, state = \"South Carolina\", fips = 45, cases = 205018, deaths = 4274)\n",
              " CSV.Row: (date = 2020-11-21, state = \"South Dakota\", fips = 46, cases = 72214, deaths = 777)\n",
              " CSV.Row: (date = 2020-11-21, state = \"Tennessee\", fips = 47, cases = 329490, deaths = 4163)\n",
              " CSV.Row: (date = 2020-11-21, state = \"Texas\", fips = 48, cases = 1164130, deaths = 21004)\n",
              " CSV.Row: (date = 2020-11-21, state = \"Utah\", fips = 49, cases = 173979, deaths = 789)\n",
              " CSV.Row: (date = 2020-11-21, state = \"Vermont\", fips = 50, cases = 3546, deaths = 63)\n",
              " CSV.Row: (date = 2020-11-21, state = \"Virgin Islands\", fips = 78, cases = 1491, deaths = 23)\n",
              " CSV.Row: (date = 2020-11-21, state = \"Virginia\", fips = 51, cases = 215679, deaths = 3938)\n",
              " CSV.Row: (date = 2020-11-21, state = \"Washington\", fips = 53, cases = 148691, deaths = 2738)\n",
              " CSV.Row: (date = 2020-11-21, state = \"West Virginia\", fips = 54, cases = 39598, deaths = 658)\n",
              " CSV.Row: (date = 2020-11-21, state = \"Wisconsin\", fips = 55, cases = 372219, deaths = 3155)\n",
              " CSV.Row: (date = 2020-11-21, state = \"Wyoming\", fips = 56, cases = 27410, deaths = 176)"
            ]
          },
          "metadata": {
            "tags": []
          },
          "execution_count": 119
        }
      ]
    },
    {
      "cell_type": "code",
      "metadata": {
        "colab": {
          "base_uri": "https://localhost:8080/"
        },
        "id": "D5H1uBGPWzj_",
        "outputId": "b1a8dd9a-45be-4566-b75c-4887682ba2f6"
      },
      "source": [
        "f.date"
      ],
      "execution_count": null,
      "outputs": [
        {
          "output_type": "execute_result",
          "data": {
            "text/plain": [
              "14534-element SentinelArrays.ChainedVector{Dates.Date,Array{Dates.Date,1}}:\n",
              " 2020-01-21\n",
              " 2020-01-22\n",
              " 2020-01-23\n",
              " 2020-01-24\n",
              " 2020-01-24\n",
              " 2020-01-25\n",
              " 2020-01-25\n",
              " 2020-01-25\n",
              " 2020-01-26\n",
              " 2020-01-26\n",
              " 2020-01-26\n",
              " 2020-01-26\n",
              " 2020-01-27\n",
              " ⋮\n",
              " 2020-11-21\n",
              " 2020-11-21\n",
              " 2020-11-21\n",
              " 2020-11-21\n",
              " 2020-11-21\n",
              " 2020-11-21\n",
              " 2020-11-21\n",
              " 2020-11-21\n",
              " 2020-11-21\n",
              " 2020-11-21\n",
              " 2020-11-21\n",
              " 2020-11-21"
            ]
          },
          "metadata": {
            "tags": []
          },
          "execution_count": 120
        }
      ]
    },
    {
      "cell_type": "code",
      "metadata": {
        "colab": {
          "base_uri": "https://localhost:8080/"
        },
        "id": "2CVk7HJUWMlz",
        "outputId": "b95eebcf-54b4-4573-dcda-db3a802f9383"
      },
      "source": [
        ";ls"
      ],
      "execution_count": null,
      "outputs": [
        {
          "output_type": "stream",
          "text": [
            "sample_data\n",
            "us-states.csv\n"
          ],
          "name": "stdout"
        }
      ]
    },
    {
      "cell_type": "code",
      "metadata": {
        "colab": {
          "base_uri": "https://localhost:8080/",
          "height": 182
        },
        "id": "WoSc4VN7RGfu",
        "outputId": "ed121419-d0fa-49a9-b1e2-f6252d6e737c"
      },
      "source": [
        "using CSV   \n",
        "\n",
        "dataset = CSV.read(download(url,','))"
      ],
      "execution_count": null,
      "outputs": [
        {
          "output_type": "error",
          "ename": "MethodError",
          "evalue": "ignored",
          "traceback": [
            "MethodError: no method matching download(::String, ::Char)\nClosest candidates are:\n  download(::AbstractString) at download.jl:81\n  download(::AbstractString, !Matched::AbstractString) at download.jl:59",
            "",
            "Stacktrace:",
            " [1] top-level scope at In[121]:2"
          ]
        }
      ]
    }
  ]
}