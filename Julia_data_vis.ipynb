{
  "nbformat": 4,
  "nbformat_minor": 0,
  "metadata": {
    "colab": {
      "name": "Julia data vis",
      "provenance": [],
      "collapsed_sections": [],
      "include_colab_link": true
    },
    "kernelspec": {
      "display_name": "Julia",
      "language": "julia",
      "name": "julia"
    },
    "language_info": {
      "file_extension": ".jl",
      "mimetype": "application/julia",
      "name": "julia"
    }
  },
  "cells": [
    {
      "cell_type": "markdown",
      "metadata": {
        "id": "view-in-github",
        "colab_type": "text"
      },
      "source": [
        "<a href=\"https://colab.research.google.com/github/antonbaron10/ProgLangJuliaProject/blob/master/Julia_data_vis.ipynb\" target=\"_parent\"><img src=\"https://colab.research.google.com/assets/colab-badge.svg\" alt=\"Open In Colab\"/></a>"
      ]
    },
    {
      "cell_type": "markdown",
      "metadata": {
        "id": "tIWrxOevWKPe"
      },
      "source": [
        "Run shell command once and refresh to change interp to julia"
      ]
    },
    {
      "cell_type": "code",
      "metadata": {
        "colab": {
          "base_uri": "https://localhost:8080/",
          "height": 1000
        },
        "id": "Lespvid776c-",
        "outputId": "00834db2-ddaa-42af-9810-68e065601b20"
      },
      "source": [
        "%%shell\n",
        "set -e\n",
        "\n",
        "#---------------------------------------------------#\n",
        "JULIA_VERSION=\"1.4.2\" # any version ≥ 0.7.0\n",
        "JULIA_PACKAGES=\"IJulia BenchmarkTools PyCall PyPlot\"\n",
        "JULIA_PACKAGES_IF_GPU=\"CUDA\"\n",
        "JULIA_NUM_THREADS=4\n",
        "#---------------------------------------------------#\n",
        "Name: Julia\n",
        "Id: julialang.language-julia\n",
        "Description: Julia Language Support\n",
        "Version: 0.11.6\n",
        "Publisher: julialang\n",
        "VS Marketplace Link: https://marketplace.visualstudio.com/items?itemName=julialang.language-julia\n",
        "if [ -n \"$COLAB_GPU\" ] && [ -z `which julia` ]; then\n",
        "  # Install Julia\n",
        "  JULIA_VER=`cut -d '.' -f -2 <<< \"$JULIA_VERSION\"`\n",
        "  echo \"Installing Julia $JULIA_VERSION on the current Colab Runtime...\"\n",
        "  BASE_URL=\"https://julialang-s3.julialang.org/bin/linux/x64\"\n",
        "  URL=\"$BASE_URL/$JULIA_VER/julia-$JULIA_VERSION-linux-x86_64.tar.gz\"\n",
        "  wget -nv $URL -O /tmp/julia.tar.gz # -nv means \"not verbose\"\n",
        "  tar -x -f /tmp/julia.tar.gz -C /usr/local --strip-components 1\n",
        "  rm /tmp/julia.tar.gz\n",
        "\n",
        "  # Install Packages\n",
        "  if [ \"$COLAB_GPU\" = \"1\" ]; then\n",
        "      JULIA_PACKAGES=\"$JULIA_PACKAGES $JULIA_PACKAGES_IF_GPU\"\n",
        "  fi\n",
        "  for PKG in `echo $JULIA_PACKAGES`; do\n",
        "    echo \"Installing Julia package $PKG...\"\n",
        "    julia -e 'using Pkg; pkg\"add '$PKG'; precompile;\"'\n",
        "  done\n",
        "\n",
        "  # Install kernel and rename it to \"julia\"\n",
        "  echo \"Installing IJulia kernel...\"\n",
        "  julia -e 'using IJulia; IJulia.installkernel(\"julia\", env=Dict(\n",
        "      \"JULIA_NUM_THREADS\"=>\"'\"$JULIA_NUM_THREADS\"'\"))'\n",
        "  KERNEL_DIR=`julia -e \"using IJulia; print(IJulia.kerneldir())\"`\n",
        "  KERNEL_NAME=`ls -d \"$KERNEL_DIR\"/julia*`\n",
        "  mv -f $KERNEL_NAME \"$KERNEL_DIR\"/julia  \n",
        "\n",
        "  echo ''\n",
        "  echo \"Successfully installed `julia -v`!\"\n",
        "  echo \"Please reload this page (press Ctrl+R, ⌘+R, or the F5 key) then\"\n",
        "  echo \"jump to the 'Checking the Installation' section.\"\n",
        "fi"
      ],
      "execution_count": 2,
      "outputs": [
        {
          "output_type": "stream",
          "text": [
            "/bin/bash: line 8: Name:: command not found\n"
          ],
          "name": "stdout"
        },
        {
          "output_type": "error",
          "ename": "CalledProcessError",
          "evalue": "ignored",
          "traceback": [
            "\u001b[0;31m---------------------------------------------------------------------------\u001b[0m",
            "\u001b[0;31mCalledProcessError\u001b[0m                        Traceback (most recent call last)",
            "\u001b[0;32m<ipython-input-2-8e2b2f366e45>\u001b[0m in \u001b[0;36m<module>\u001b[0;34m()\u001b[0m\n\u001b[0;32m----> 1\u001b[0;31m \u001b[0mget_ipython\u001b[0m\u001b[0;34m(\u001b[0m\u001b[0;34m)\u001b[0m\u001b[0;34m.\u001b[0m\u001b[0mrun_cell_magic\u001b[0m\u001b[0;34m(\u001b[0m\u001b[0;34m'shell'\u001b[0m\u001b[0;34m,\u001b[0m \u001b[0;34m''\u001b[0m\u001b[0;34m,\u001b[0m \u001b[0;34m'set -e\\n\\n#---------------------------------------------------#\\nJULIA_VERSION=\"1.4.2\" # any version ≥ 0.7.0\\nJULIA_PACKAGES=\"IJulia BenchmarkTools PyCall PyPlot\"\\nJULIA_PACKAGES_IF_GPU=\"CUDA\"\\nJULIA_NUM_THREADS=4\\n#---------------------------------------------------#\\nName: Julia\\nId: julialang.language-julia\\nDescription: Julia Language Support\\nVersion: 0.11.6\\nPublisher: julialang\\nVS Marketplace Link: https://marketplace.visualstudio.com/items?itemName=julialang.language-julia\\nif [ -n \"$COLAB_GPU\" ] && [ -z `which julia` ]; then\\n  # Install Julia\\n  JULIA_VER=`cut -d \\'.\\' -f -2 <<< \"$JULIA_VERSION\"`\\n  echo \"Installing Julia $JULIA_VERSION on the current Colab Runtime...\"\\n  BASE_URL=\"https://julialang-s3.julialang.org/bin/linux/x64\"\\n  URL=\"$BASE_URL/$JULIA_VER/julia-$JULIA_VERSION-linux-x86_64.tar.gz\"\\n  wget -nv $URL -O /tmp/julia.tar.gz # -nv means \"not verbose\"\\n  tar -x -f /tmp/julia.tar.gz -C /usr/local --strip-components 1\\n  rm /tmp/julia.tar.gz\\n\\n  # Install Packages\\n  if [ \"$COLAB_GPU\" = \"1\" ]; then\\n      JULIA_PACKAGES=\"$JULIA_PACKAGES $JULIA_PACKAGES_IF_GPU\"\\n  fi\\n  for PKG in `echo $JULIA_PACKAGES`; do\\n    echo \"Installing Julia package $PKG...\"\\n    julia -e \\'using Pkg; pkg\"add \\'$PKG\\'; precompile;\"\\'\\n  done\\n\\n  # Install kernel and rename it to \"julia\"\\n  echo \"Instal...\n\u001b[0m",
            "\u001b[0;32m/usr/local/lib/python3.6/dist-packages/IPython/core/interactiveshell.py\u001b[0m in \u001b[0;36mrun_cell_magic\u001b[0;34m(self, magic_name, line, cell)\u001b[0m\n\u001b[1;32m   2115\u001b[0m             \u001b[0mmagic_arg_s\u001b[0m \u001b[0;34m=\u001b[0m \u001b[0mself\u001b[0m\u001b[0;34m.\u001b[0m\u001b[0mvar_expand\u001b[0m\u001b[0;34m(\u001b[0m\u001b[0mline\u001b[0m\u001b[0;34m,\u001b[0m \u001b[0mstack_depth\u001b[0m\u001b[0;34m)\u001b[0m\u001b[0;34m\u001b[0m\u001b[0;34m\u001b[0m\u001b[0m\n\u001b[1;32m   2116\u001b[0m             \u001b[0;32mwith\u001b[0m \u001b[0mself\u001b[0m\u001b[0;34m.\u001b[0m\u001b[0mbuiltin_trap\u001b[0m\u001b[0;34m:\u001b[0m\u001b[0;34m\u001b[0m\u001b[0;34m\u001b[0m\u001b[0m\n\u001b[0;32m-> 2117\u001b[0;31m                 \u001b[0mresult\u001b[0m \u001b[0;34m=\u001b[0m \u001b[0mfn\u001b[0m\u001b[0;34m(\u001b[0m\u001b[0mmagic_arg_s\u001b[0m\u001b[0;34m,\u001b[0m \u001b[0mcell\u001b[0m\u001b[0;34m)\u001b[0m\u001b[0;34m\u001b[0m\u001b[0;34m\u001b[0m\u001b[0m\n\u001b[0m\u001b[1;32m   2118\u001b[0m             \u001b[0;32mreturn\u001b[0m \u001b[0mresult\u001b[0m\u001b[0;34m\u001b[0m\u001b[0;34m\u001b[0m\u001b[0m\n\u001b[1;32m   2119\u001b[0m \u001b[0;34m\u001b[0m\u001b[0m\n",
            "\u001b[0;32m/usr/local/lib/python3.6/dist-packages/google/colab/_system_commands.py\u001b[0m in \u001b[0;36m_shell_cell_magic\u001b[0;34m(args, cmd)\u001b[0m\n\u001b[1;32m    110\u001b[0m   \u001b[0mresult\u001b[0m \u001b[0;34m=\u001b[0m \u001b[0m_run_command\u001b[0m\u001b[0;34m(\u001b[0m\u001b[0mcmd\u001b[0m\u001b[0;34m,\u001b[0m \u001b[0mclear_streamed_output\u001b[0m\u001b[0;34m=\u001b[0m\u001b[0;32mFalse\u001b[0m\u001b[0;34m)\u001b[0m\u001b[0;34m\u001b[0m\u001b[0;34m\u001b[0m\u001b[0m\n\u001b[1;32m    111\u001b[0m   \u001b[0;32mif\u001b[0m \u001b[0;32mnot\u001b[0m \u001b[0mparsed_args\u001b[0m\u001b[0;34m.\u001b[0m\u001b[0mignore_errors\u001b[0m\u001b[0;34m:\u001b[0m\u001b[0;34m\u001b[0m\u001b[0;34m\u001b[0m\u001b[0m\n\u001b[0;32m--> 112\u001b[0;31m     \u001b[0mresult\u001b[0m\u001b[0;34m.\u001b[0m\u001b[0mcheck_returncode\u001b[0m\u001b[0;34m(\u001b[0m\u001b[0;34m)\u001b[0m\u001b[0;34m\u001b[0m\u001b[0;34m\u001b[0m\u001b[0m\n\u001b[0m\u001b[1;32m    113\u001b[0m   \u001b[0;32mreturn\u001b[0m \u001b[0mresult\u001b[0m\u001b[0;34m\u001b[0m\u001b[0;34m\u001b[0m\u001b[0m\n\u001b[1;32m    114\u001b[0m \u001b[0;34m\u001b[0m\u001b[0m\n",
            "\u001b[0;32m/usr/local/lib/python3.6/dist-packages/google/colab/_system_commands.py\u001b[0m in \u001b[0;36mcheck_returncode\u001b[0;34m(self)\u001b[0m\n\u001b[1;32m    136\u001b[0m     \u001b[0;32mif\u001b[0m \u001b[0mself\u001b[0m\u001b[0;34m.\u001b[0m\u001b[0mreturncode\u001b[0m\u001b[0;34m:\u001b[0m\u001b[0;34m\u001b[0m\u001b[0;34m\u001b[0m\u001b[0m\n\u001b[1;32m    137\u001b[0m       raise subprocess.CalledProcessError(\n\u001b[0;32m--> 138\u001b[0;31m           returncode=self.returncode, cmd=self.args, output=self.output)\n\u001b[0m\u001b[1;32m    139\u001b[0m \u001b[0;34m\u001b[0m\u001b[0m\n\u001b[1;32m    140\u001b[0m   \u001b[0;32mdef\u001b[0m \u001b[0m_repr_pretty_\u001b[0m\u001b[0;34m(\u001b[0m\u001b[0mself\u001b[0m\u001b[0;34m,\u001b[0m \u001b[0mp\u001b[0m\u001b[0;34m,\u001b[0m \u001b[0mcycle\u001b[0m\u001b[0;34m)\u001b[0m\u001b[0;34m:\u001b[0m  \u001b[0;31m# pylint:disable=unused-argument\u001b[0m\u001b[0;34m\u001b[0m\u001b[0;34m\u001b[0m\u001b[0m\n",
            "\u001b[0;31mCalledProcessError\u001b[0m: Command 'set -e\n\n#---------------------------------------------------#\nJULIA_VERSION=\"1.4.2\" # any version ≥ 0.7.0\nJULIA_PACKAGES=\"IJulia BenchmarkTools PyCall PyPlot\"\nJULIA_PACKAGES_IF_GPU=\"CUDA\"\nJULIA_NUM_THREADS=4\n#---------------------------------------------------#\nName: Julia\nId: julialang.language-julia\nDescription: Julia Language Support\nVersion: 0.11.6\nPublisher: julialang\nVS Marketplace Link: https://marketplace.visualstudio.com/items?itemName=julialang.language-julia\nif [ -n \"$COLAB_GPU\" ] && [ -z `which julia` ]; then\n  # Install Julia\n  JULIA_VER=`cut -d '.' -f -2 <<< \"$JULIA_VERSION\"`\n  echo \"Installing Julia $JULIA_VERSION on the current Colab Runtime...\"\n  BASE_URL=\"https://julialang-s3.julialang.org/bin/linux/x64\"\n  URL=\"$BASE_URL/$JULIA_VER/julia-$JULIA_VERSION-linux-x86_64.tar.gz\"\n  wget -nv $URL -O /tmp/julia.tar.gz # -nv means \"not verbose\"\n  tar -x -f /tmp/julia.tar.gz -C /usr/local --strip-components 1\n  rm /tmp/julia.tar.gz\n\n  # Install Packages\n  if [ \"$COLAB_GPU\" = \"1\" ]; then\n      JULIA_PACKAGES=\"$JULIA_PACKAGES $JULIA_PACKAGES_IF_GPU\"\n  fi\n  for PKG in `echo $JULIA_PACKAGES`; do\n    echo \"Installing Julia package $PKG...\"\n    julia -e 'using Pkg; pkg\"add '$PKG'; precompile;\"'\n  done\n\n  # Install kernel and rename it to \"julia\"\n  echo \"Installing IJulia kernel...\"\n  julia -e 'using IJulia; IJulia.installkernel(\"julia\", env=Dict(\n      \"JULIA_NUM_THREADS\"=>\"'\"$JULIA_NUM_THREADS\"'\"))'\n  KERNEL_DIR=`julia -e \"using IJulia; print(IJulia.kerneldir())\"`\n  KERNEL_NAME=`ls -d \"$KERNEL_DIR\"/julia*`\n  mv -f $KERNEL_NAME \"$KERNEL_DIR\"/julia  \n\n  echo ''\n  echo \"Successfully installed `julia -v`!\"\n  echo \"Please reload this page (press Ctrl+R, ⌘+R, or the F5 key) then\"\n  echo \"jump to the 'Checking the Installation' section.\"\nfi' returned non-zero exit status 127."
          ]
        }
      ]
    },
    {
      "cell_type": "markdown",
      "metadata": {
        "id": "NKghFr4uT3aX"
      },
      "source": [
        "Add Packages:\n",
        "\n",
        "\n",
        "** side note: when using a normal IDE, you can add packages in one file and then \"activate them\" in another file using Pkg.activate() to avoid re-importing packages (saves a decent amount of time)"
      ]
    },
    {
      "cell_type": "code",
      "metadata": {
        "id": "9l8rC5Jk86Y7"
      },
      "source": [
        "import Pkg\n",
        "Pkg.add(\"Plots\")\n",
        "Pkg.add(\"CSV\")\n",
        "Pkg.add(\"DataFrames\")\n",
        "Pkg.add(\"HTTP\")\n",
        "Pkg.add(\"CSVFiles\")\n",
        "Pkg.add(\"CSV\")\n",
        "Pkg.add(\"Formatting\")"
      ],
      "execution_count": null,
      "outputs": []
    },
    {
      "cell_type": "markdown",
      "metadata": {
        "id": "GGSwf9W0OXIQ"
      },
      "source": [
        "Example of a simple plot"
      ]
    },
    {
      "cell_type": "code",
      "metadata": {
        "id": "xUuHP9_bDb9E"
      },
      "source": [
        "using Plots\n",
        "plot(rand(5,5),linewidth = 2,title=\"simple plot\")"
      ],
      "execution_count": null,
      "outputs": []
    },
    {
      "cell_type": "markdown",
      "metadata": {
        "id": "9u-7T98NUZAC"
      },
      "source": [
        "**VISUALIZING COVID-19 DATA **"
      ]
    },
    {
      "cell_type": "code",
      "metadata": {
        "id": "8XlC6_oZH-nW"
      },
      "source": [
        "using DataFrames,CSV,CSVFiles\n",
        "# download the data\n",
        "d = download(\"https://raw.githubusercontent.com/nytimes/covid-19-data/master/us-states.csv\",\"us-states.csv\" ) # download CSV param 1 = repo/url, param 2 = file path\n",
        "f = CSV.File(d)\n",
        "\n",
        "# load as a DF\n",
        "df = DataFrame(load(d))"
      ],
      "execution_count": null,
      "outputs": []
    },
    {
      "cell_type": "code",
      "metadata": {
        "id": "yk7J84OQrJnx"
      },
      "source": [
        "# accessing columns in of a df\n",
        "states = df.state\n",
        "dates = df.date"
      ],
      "execution_count": null,
      "outputs": []
    },
    {
      "cell_type": "code",
      "metadata": {
        "id": "VAoIA0Rb25MN"
      },
      "source": [
        "# get the size of the data set\n",
        "tup = size(df.date) # SIZE OF CSV/ ARRAY\n",
        "num_rows = tup[1]"
      ],
      "execution_count": null,
      "outputs": []
    },
    {
      "cell_type": "code",
      "metadata": {
        "id": "z0lLRLQ1ziWO"
      },
      "source": [
        "jan = 0; feb = 0; march = 0; april = 0; may = 0; june = 0; july = 0;august = 0; september = 0; october = 0; november = 0; december = 0;\n",
        "months = []\n",
        "for i = 1:num_rows\n",
        "           date = df.date[i]\n",
        "           push!(dates,date)\n",
        "           # get the months of each point\n",
        "           a = string(dates[i])\n",
        "           cases = df.deaths[i]\n",
        "           \n",
        "          if a[6:7] == \"01\"\n",
        "            global jan = jan + cases\n",
        "          elseif a[6:7] == \"02\"\n",
        "            global feb = feb + cases\n",
        "        elseif a[6:7] == \"03\"\n",
        "            global march = march + cases\n",
        "          elseif a[6:7] == \"04\"\n",
        "            global april = april + cases\n",
        "          elseif a[6:7] == \"05\"\n",
        "            global may = may + cases\n",
        "          elseif a[6:7] == \"06\"\n",
        "            global june = june + cases\n",
        "          elseif a[6:7] == \"07\"\n",
        "            global july = july + cases\n",
        "          elseif a[6:7] == \"08\"\n",
        "            global august = august + cases\n",
        "          elseif a[6:7] == \"09\"\n",
        "            global september = september + cases\n",
        "          elseif a[6:7] == \"10\"\n",
        "            global october = october + cases\n",
        "          elseif a[6:7] == \"11\"\n",
        "            global november = november + cases\n",
        "          elseif a[6:7] == \"12\"\n",
        "            global december = december + cases\n",
        "\n",
        "           end\n",
        "end\n",
        "push!(months,jan)\n",
        "push!(months,feb)\n",
        "push!(months,march)\n",
        "push!(months,april)\n",
        "push!(months,may)\n",
        "push!(months,june)\n",
        "push!(months,july)\n",
        "push!(months,august)\n",
        "push!(months,september)\n",
        "push!(months,october)\n",
        "push!(months,november)\n",
        "push!(months,december)\n",
        "print(months)"
      ],
      "execution_count": null,
      "outputs": []
    },
    {
      "cell_type": "code",
      "metadata": {
        "id": "8Jfx3OTbtFA7"
      },
      "source": [
        "# Julia defaults to plotting in scientific noation, formatter package can change plot to normal\n",
        "using Plots, Formatting\n",
        "x = [1,2,3,4,5,6,7,8,9,10,11,12]\n",
        "\n",
        "for i =1:12\n",
        "  months[i] = BigInt(months[i])\n",
        "end\n",
        "test = months[11]\n",
        "test = BigInt(test)\n",
        "print(typeof(test))\n",
        "print(test)\n",
        "y = months\n",
        "print(y)\n",
        "\n",
        "# add format package \n",
        "bar(x,y, title=\"Covid Cases by month\",formatter = format)\n",
        "#scatter(x,y, title=\"Months of reported covid cases\")"
      ],
      "execution_count": null,
      "outputs": []
    }
  ]
}