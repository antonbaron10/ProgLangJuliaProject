{
  "nbformat": 4,
  "nbformat_minor": 0,
  "metadata": {
    "colab": {
      "name": "Julia data vis",
      "provenance": [],
      "collapsed_sections": [],
      "include_colab_link": true
    },
    "kernelspec": {
      "display_name": "Julia",
      "language": "julia",
      "name": "julia"
    },
    "language_info": {
      "file_extension": ".jl",
      "mimetype": "application/julia",
      "name": "julia"
    }
  },
  "cells": [
    {
      "cell_type": "markdown",
      "metadata": {
        "id": "view-in-github",
        "colab_type": "text"
      },
      "source": [
        "<a href=\"https://colab.research.google.com/github/antonbaron10/ProgLangJuliaProject/blob/master/Julia_data_vis.ipynb\" target=\"_parent\"><img src=\"https://colab.research.google.com/assets/colab-badge.svg\" alt=\"Open In Colab\"/></a>"
      ]
    },
    {
      "cell_type": "code",
      "metadata": {
        "id": "MS30xW09Jjkl"
      },
      "source": [
        "Run shell command once and refresh to change interp to julia"
      ],
      "execution_count": null,
      "outputs": []
    },
    {
      "cell_type": "code",
      "metadata": {
        "colab": {
          "base_uri": "https://localhost:8080/"
        },
        "id": "Lespvid776c-",
        "outputId": "ab001b1e-b54a-4b02-c0f9-23193a1148a3"
      },
      "source": [
        "%%shell\n",
        "set -e\n",
        "\n",
        "#---------------------------------------------------#\n",
        "JULIA_VERSION=\"1.4.2\" # any version ≥ 0.7.0\n",
        "JULIA_PACKAGES=\"IJulia BenchmarkTools PyCall PyPlot\"\n",
        "JULIA_PACKAGES_IF_GPU=\"CUDA\"\n",
        "JULIA_NUM_THREADS=4\n",
        "#---------------------------------------------------#\n",
        "Name: Julia\n",
        "Id: julialang.language-julia\n",
        "Description: Julia Language Support\n",
        "Version: 0.11.6\n",
        "Publisher: julialang\n",
        "VS Marketplace Link: https://marketplace.visualstudio.com/items?itemName=julialang.language-julia\n",
        "if [ -n \"$COLAB_GPU\" ] && [ -z `which julia` ]; then\n",
        "  # Install Julia\n",
        "  JULIA_VER=`cut -d '.' -f -2 <<< \"$JULIA_VERSION\"`\n",
        "  echo \"Installing Julia $JULIA_VERSION on the current Colab Runtime...\"\n",
        "  BASE_URL=\"https://julialang-s3.julialang.org/bin/linux/x64\"\n",
        "  URL=\"$BASE_URL/$JULIA_VER/julia-$JULIA_VERSION-linux-x86_64.tar.gz\"\n",
        "  wget -nv $URL -O /tmp/julia.tar.gz # -nv means \"not verbose\"\n",
        "  tar -x -f /tmp/julia.tar.gz -C /usr/local --strip-components 1\n",
        "  rm /tmp/julia.tar.gz\n",
        "\n",
        "  # Install Packages\n",
        "  if [ \"$COLAB_GPU\" = \"1\" ]; then\n",
        "      JULIA_PACKAGES=\"$JULIA_PACKAGES $JULIA_PACKAGES_IF_GPU\"\n",
        "  fi\n",
        "  for PKG in `echo $JULIA_PACKAGES`; do\n",
        "    echo \"Installing Julia package $PKG...\"\n",
        "    julia -e 'using Pkg; pkg\"add '$PKG'; precompile;\"'\n",
        "  done\n",
        "\n",
        "  # Install kernel and rename it to \"julia\"\n",
        "  echo \"Installing IJulia kernel...\"\n",
        "  julia -e 'using IJulia; IJulia.installkernel(\"julia\", env=Dict(\n",
        "      \"JULIA_NUM_THREADS\"=>\"'\"$JULIA_NUM_THREADS\"'\"))'\n",
        "  KERNEL_DIR=`julia -e \"using IJulia; print(IJulia.kerneldir())\"`\n",
        "  KERNEL_NAME=`ls -d \"$KERNEL_DIR\"/julia*`\n",
        "  mv -f $KERNEL_NAME \"$KERNEL_DIR\"/julia  \n",
        "\n",
        "  echo ''\n",
        "  echo \"Successfully installed `julia -v`!\"\n",
        "  echo \"Please reload this page (press Ctrl+R, ⌘+R, or the F5 key) then\"\n",
        "  echo \"jump to the 'Checking the Installation' section.\"\n",
        "fi"
      ],
      "execution_count": null,
      "outputs": [
        {
          "output_type": "execute_result",
          "data": {
            "text/plain": [
              ""
            ]
          },
          "metadata": {
            "tags": []
          },
          "execution_count": 4
        }
      ]
    },
    {
      "cell_type": "code",
      "metadata": {
        "id": "9l8rC5Jk86Y7",
        "colab": {
          "base_uri": "https://localhost:8080/"
        },
        "outputId": "93769f22-e4a6-4dfa-853d-242533459b9e"
      },
      "source": [
        "import Pkg\n",
        "Pkg.add(\"Plots\")\n"
      ],
      "execution_count": null,
      "outputs": [
        {
          "output_type": "stream",
          "text": [
            "\u001b[32m\u001b[1m   Updating\u001b[22m\u001b[39m registry at `~/.julia/registries/General`\n"
          ],
          "name": "stderr"
        },
        {
          "output_type": "stream",
          "text": [
            "\u001b[?25l\u001b[2K"
          ],
          "name": "stdout"
        },
        {
          "output_type": "stream",
          "text": [
            "\u001b[32m\u001b[1m   Updating\u001b[22m\u001b[39m git-repo `https://github.com/JuliaRegistries/General.git`\n"
          ],
          "name": "stderr"
        },
        {
          "output_type": "stream",
          "text": [
            "\u001b[?25h"
          ],
          "name": "stdout"
        },
        {
          "output_type": "stream",
          "text": [
            "\u001b[32m\u001b[1m  Resolving\u001b[22m\u001b[39m package versions...\n",
            "\u001b[32m\u001b[1m  Installed\u001b[22m\u001b[39m LibVPX_jll ────────────────── v1.9.0+1\n",
            "\u001b[32m\u001b[1m  Installed\u001b[22m\u001b[39m FFMPEG_jll ────────────────── v4.3.1+4\n",
            "\u001b[32m\u001b[1m  Installed\u001b[22m\u001b[39m FreeType2_jll ─────────────── v2.10.1+5\n",
            "\u001b[32m\u001b[1m  Installed\u001b[22m\u001b[39m DataAPI ───────────────────── v1.4.0\n",
            "\u001b[32m\u001b[1m  Installed\u001b[22m\u001b[39m StructArrays ──────────────── v0.4.4\n",
            "\u001b[32m\u001b[1m  Installed\u001b[22m\u001b[39m TableTraits ───────────────── v1.0.0\n",
            "\u001b[32m\u001b[1m  Installed\u001b[22m\u001b[39m HTTP ──────────────────────── v0.8.19\n",
            "\u001b[32m\u001b[1m  Installed\u001b[22m\u001b[39m Plots ─────────────────────── v1.6.12\n",
            "\u001b[32m\u001b[1m  Installed\u001b[22m\u001b[39m StatsBase ─────────────────── v0.33.2\n",
            "\u001b[32m\u001b[1m  Installed\u001b[22m\u001b[39m Grisu ─────────────────────── v1.0.0\n",
            "\u001b[32m\u001b[1m  Installed\u001b[22m\u001b[39m IterTools ─────────────────── v1.3.0\n",
            "\u001b[32m\u001b[1m  Installed\u001b[22m\u001b[39m DataStructures ────────────── v0.18.8\n",
            "\u001b[32m\u001b[1m  Installed\u001b[22m\u001b[39m Contour ───────────────────── v0.5.6\n",
            "\u001b[32m\u001b[1m  Installed\u001b[22m\u001b[39m FFMPEG ────────────────────── v0.4.0\n",
            "\u001b[32m\u001b[1m  Installed\u001b[22m\u001b[39m Adapt ─────────────────────── v2.3.0\n",
            "\u001b[32m\u001b[1m  Installed\u001b[22m\u001b[39m IniFile ───────────────────── v0.5.0\n",
            "\u001b[32m\u001b[1m  Installed\u001b[22m\u001b[39m OpenSSL_jll ───────────────── v1.1.1+6\n",
            "\u001b[32m\u001b[1m  Installed\u001b[22m\u001b[39m Bzip2_jll ─────────────────── v1.0.6+5\n",
            "\u001b[32m\u001b[1m  Installed\u001b[22m\u001b[39m x264_jll ──────────────────── v2020.7.14+2\n",
            "\u001b[32m\u001b[1m  Installed\u001b[22m\u001b[39m Opus_jll ──────────────────── v1.3.1+3\n",
            "\u001b[32m\u001b[1m  Installed\u001b[22m\u001b[39m FriBidi_jll ───────────────── v1.0.5+6\n",
            "\u001b[32m\u001b[1m  Installed\u001b[22m\u001b[39m SortingAlgorithms ─────────── v0.3.1\n",
            "\u001b[32m\u001b[1m  Installed\u001b[22m\u001b[39m PlotThemes ────────────────── v2.0.0\n",
            "\u001b[32m\u001b[1m  Installed\u001b[22m\u001b[39m OrderedCollections ────────── v1.3.2\n",
            "\u001b[32m\u001b[1m  Installed\u001b[22m\u001b[39m Measures ──────────────────── v0.3.1\n",
            "\u001b[32m\u001b[1m  Installed\u001b[22m\u001b[39m IteratorInterfaceExtensions ─ v1.0.0\n",
            "\u001b[32m\u001b[1m  Installed\u001b[22m\u001b[39m EarCut_jll ────────────────── v2.1.5+1\n",
            "\u001b[32m\u001b[1m  Installed\u001b[22m\u001b[39m Latexify ──────────────────── v0.14.5\n",
            "\u001b[32m\u001b[1m  Installed\u001b[22m\u001b[39m GeometryBasics ────────────── v0.3.3\n",
            "\u001b[32m\u001b[1m  Installed\u001b[22m\u001b[39m x265_jll ──────────────────── v3.0.0+3\n",
            "\u001b[32m\u001b[1m  Installed\u001b[22m\u001b[39m libfdk_aac_jll ────────────── v0.1.6+4\n",
            "\u001b[32m\u001b[1m  Installed\u001b[22m\u001b[39m DataValueInterfaces ───────── v1.0.0\n",
            "\u001b[32m\u001b[1m  Installed\u001b[22m\u001b[39m PlotUtils ─────────────────── v1.0.7\n",
            "\u001b[32m\u001b[1m  Installed\u001b[22m\u001b[39m Tables ────────────────────── v1.2.1\n",
            "\u001b[32m\u001b[1m  Installed\u001b[22m\u001b[39m StaticArrays ──────────────── v0.12.5\n",
            "\u001b[32m\u001b[1m  Installed\u001b[22m\u001b[39m Ogg_jll ───────────────────── v1.3.4+2\n",
            "\u001b[32m\u001b[1m  Installed\u001b[22m\u001b[39m NaNMath ───────────────────── v0.3.5\n",
            "\u001b[32m\u001b[1m  Installed\u001b[22m\u001b[39m libvorbis_jll ─────────────── v1.3.6+6\n",
            "\u001b[32m\u001b[1m  Installed\u001b[22m\u001b[39m Missings ──────────────────── v0.4.4\n",
            "\u001b[32m\u001b[1m  Installed\u001b[22m\u001b[39m GR ────────────────────────── v0.52.0\n",
            "\u001b[32m\u001b[1m  Installed\u001b[22m\u001b[39m Zlib_jll ──────────────────── v1.2.11+18\n",
            "\u001b[32m\u001b[1m  Installed\u001b[22m\u001b[39m LAME_jll ──────────────────── v3.100.0+3\n",
            "\u001b[32m\u001b[1m  Installed\u001b[22m\u001b[39m Showoff ───────────────────── v0.3.2\n",
            "\u001b[32m\u001b[1m  Installed\u001b[22m\u001b[39m Compat ────────────────────── v3.23.0\n",
            "\u001b[32m\u001b[1m  Installed\u001b[22m\u001b[39m RecipesPipeline ───────────── v0.1.13\n",
            "\u001b[32m\u001b[1m  Installed\u001b[22m\u001b[39m Requires ──────────────────── v1.1.1\n",
            "\u001b[32m\u001b[1m  Installed\u001b[22m\u001b[39m GeometryTypes ─────────────── v0.8.4\n",
            "\u001b[32m\u001b[1m  Installed\u001b[22m\u001b[39m Formatting ────────────────── v0.4.1\n",
            "\u001b[32m\u001b[1m  Installed\u001b[22m\u001b[39m RecipesBase ───────────────── v1.1.1\n",
            "\u001b[32m\u001b[1m  Installed\u001b[22m\u001b[39m libass_jll ────────────────── v0.14.0+4\n",
            "\u001b[32m\u001b[1m  Installed\u001b[22m\u001b[39m ColorSchemes ──────────────── v3.10.1\n",
            "######################################################################### 100.0%\n",
            "######################################################################### 100.0%\n",
            "######################################################################### 100.0%\n",
            "######################################################################### 100.0%\n",
            "######################################################################### 100.0%\n",
            "######################################################################### 100.0%\n",
            "######################################################################### 100.0%\n",
            "######################################################################### 100.0%\n",
            "######################################################################### 100.0%\n",
            "######################################################################### 100.0%\n",
            "######################################################################### 100.0%\n",
            "######################################################################### 100.0%\n",
            "######################################################################### 100.0%\n",
            "######################################################################### 100.0%\n",
            "######################################################################### 100.0%\n",
            "######################################################################### 100.0%\n",
            "\u001b[32m\u001b[1m   Updating\u001b[22m\u001b[39m `~/.julia/environments/v1.4/Project.toml`\n",
            " \u001b[90m [91a5bcdd]\u001b[39m\u001b[92m + Plots v1.6.12\u001b[39m\n",
            "\u001b[32m\u001b[1m   Updating\u001b[22m\u001b[39m `~/.julia/environments/v1.4/Manifest.toml`\n",
            " \u001b[90m [79e6a3ab]\u001b[39m\u001b[92m + Adapt v2.3.0\u001b[39m\n",
            " \u001b[90m [6e34b625]\u001b[39m\u001b[92m + Bzip2_jll v1.0.6+5\u001b[39m\n",
            " \u001b[90m [35d6a980]\u001b[39m\u001b[92m + ColorSchemes v3.10.1\u001b[39m\n",
            " \u001b[90m [34da2185]\u001b[39m\u001b[92m + Compat v3.23.0\u001b[39m\n",
            " \u001b[90m [d38c429a]\u001b[39m\u001b[92m + Contour v0.5.6\u001b[39m\n",
            " \u001b[90m [9a962f9c]\u001b[39m\u001b[92m + DataAPI v1.4.0\u001b[39m\n",
            " \u001b[90m [864edb3b]\u001b[39m\u001b[92m + DataStructures v0.18.8\u001b[39m\n",
            " \u001b[90m [e2d170a0]\u001b[39m\u001b[92m + DataValueInterfaces v1.0.0\u001b[39m\n",
            " \u001b[90m [5ae413db]\u001b[39m\u001b[92m + EarCut_jll v2.1.5+1\u001b[39m\n",
            " \u001b[90m [c87230d0]\u001b[39m\u001b[92m + FFMPEG v0.4.0\u001b[39m\n",
            " \u001b[90m [b22a6f82]\u001b[39m\u001b[92m + FFMPEG_jll v4.3.1+4\u001b[39m\n",
            " \u001b[90m [59287772]\u001b[39m\u001b[92m + Formatting v0.4.1\u001b[39m\n",
            " \u001b[90m [d7e528f0]\u001b[39m\u001b[92m + FreeType2_jll v2.10.1+5\u001b[39m\n",
            " \u001b[90m [559328eb]\u001b[39m\u001b[92m + FriBidi_jll v1.0.5+6\u001b[39m\n",
            " \u001b[90m [28b8d3ca]\u001b[39m\u001b[92m + GR v0.52.0\u001b[39m\n",
            " \u001b[90m [5c1252a2]\u001b[39m\u001b[92m + GeometryBasics v0.3.3\u001b[39m\n",
            " \u001b[90m [4d00f742]\u001b[39m\u001b[92m + GeometryTypes v0.8.4\u001b[39m\n",
            " \u001b[90m [42e2da0e]\u001b[39m\u001b[92m + Grisu v1.0.0\u001b[39m\n",
            " \u001b[90m [cd3eb016]\u001b[39m\u001b[92m + HTTP v0.8.19\u001b[39m\n",
            " \u001b[90m [83e8ac13]\u001b[39m\u001b[92m + IniFile v0.5.0\u001b[39m\n",
            " \u001b[90m [c8e1da08]\u001b[39m\u001b[92m + IterTools v1.3.0\u001b[39m\n",
            " \u001b[90m [82899510]\u001b[39m\u001b[92m + IteratorInterfaceExtensions v1.0.0\u001b[39m\n",
            " \u001b[90m [c1c5ebd0]\u001b[39m\u001b[92m + LAME_jll v3.100.0+3\u001b[39m\n",
            " \u001b[90m [23fbe1c1]\u001b[39m\u001b[92m + Latexify v0.14.5\u001b[39m\n",
            " \u001b[90m [dd192d2f]\u001b[39m\u001b[92m + LibVPX_jll v1.9.0+1\u001b[39m\n",
            " \u001b[90m [442fdcdd]\u001b[39m\u001b[92m + Measures v0.3.1\u001b[39m\n",
            " \u001b[90m [e1d29d7a]\u001b[39m\u001b[92m + Missings v0.4.4\u001b[39m\n",
            " \u001b[90m [77ba4419]\u001b[39m\u001b[92m + NaNMath v0.3.5\u001b[39m\n",
            " \u001b[90m [e7412a2a]\u001b[39m\u001b[92m + Ogg_jll v1.3.4+2\u001b[39m\n",
            " \u001b[90m [458c3c95]\u001b[39m\u001b[92m + OpenSSL_jll v1.1.1+6\u001b[39m\n",
            " \u001b[90m [91d4177d]\u001b[39m\u001b[92m + Opus_jll v1.3.1+3\u001b[39m\n",
            " \u001b[90m [bac558e1]\u001b[39m\u001b[92m + OrderedCollections v1.3.2\u001b[39m\n",
            " \u001b[90m [ccf2f8ad]\u001b[39m\u001b[92m + PlotThemes v2.0.0\u001b[39m\n",
            " \u001b[90m [995b91a9]\u001b[39m\u001b[92m + PlotUtils v1.0.7\u001b[39m\n",
            " \u001b[90m [91a5bcdd]\u001b[39m\u001b[92m + Plots v1.6.12\u001b[39m\n",
            " \u001b[90m [3cdcf5f2]\u001b[39m\u001b[92m + RecipesBase v1.1.1\u001b[39m\n",
            " \u001b[90m [01d81517]\u001b[39m\u001b[92m + RecipesPipeline v0.1.13\u001b[39m\n",
            " \u001b[90m [ae029012]\u001b[39m\u001b[92m + Requires v1.1.1\u001b[39m\n",
            " \u001b[90m [992d4aef]\u001b[39m\u001b[92m + Showoff v0.3.2\u001b[39m\n",
            " \u001b[90m [a2af1166]\u001b[39m\u001b[92m + SortingAlgorithms v0.3.1\u001b[39m\n",
            " \u001b[90m [90137ffa]\u001b[39m\u001b[92m + StaticArrays v0.12.5\u001b[39m\n",
            " \u001b[90m [2913bbd2]\u001b[39m\u001b[92m + StatsBase v0.33.2\u001b[39m\n",
            " \u001b[90m [09ab397b]\u001b[39m\u001b[92m + StructArrays v0.4.4\u001b[39m\n",
            " \u001b[90m [3783bdb8]\u001b[39m\u001b[92m + TableTraits v1.0.0\u001b[39m\n",
            " \u001b[90m [bd369af6]\u001b[39m\u001b[92m + Tables v1.2.1\u001b[39m\n",
            " \u001b[90m [83775a58]\u001b[39m\u001b[92m + Zlib_jll v1.2.11+18\u001b[39m\n",
            " \u001b[90m [0ac62f75]\u001b[39m\u001b[92m + libass_jll v0.14.0+4\u001b[39m\n",
            " \u001b[90m [f638f0a6]\u001b[39m\u001b[92m + libfdk_aac_jll v0.1.6+4\u001b[39m\n",
            " \u001b[90m [f27f6e37]\u001b[39m\u001b[92m + libvorbis_jll v1.3.6+6\u001b[39m\n",
            " \u001b[90m [1270edf5]\u001b[39m\u001b[92m + x264_jll v2020.7.14+2\u001b[39m\n",
            " \u001b[90m [dfaa095f]\u001b[39m\u001b[92m + x265_jll v3.0.0+3\u001b[39m\n",
            " \u001b[90m [8bb1440f]\u001b[39m\u001b[92m + DelimitedFiles \u001b[39m\n",
            " \u001b[90m [1a1011a3]\u001b[39m\u001b[92m + SharedArrays \u001b[39m\n",
            "\u001b[32m\u001b[1m   Building\u001b[22m\u001b[39m GR → `~/.julia/packages/GR/BwGt2/deps/build.log`\n"
          ],
          "name": "stderr"
        }
      ]
    },
    {
      "cell_type": "markdown",
      "metadata": {
        "id": "GGSwf9W0OXIQ"
      },
      "source": [
        "import Pkg # allow package imports\n",
        "\n",
        "\n",
        "\n",
        "\n",
        "Pkg.add(\"your specific package name here\" #import package"
      ]
    },
    {
      "cell_type": "code",
      "metadata": {
        "id": "kvesknUiDYwr",
        "colab": {
          "base_uri": "https://localhost:8080/"
        },
        "outputId": "841ec820-06dd-43e0-a2b9-e2ed4fd80dc1"
      },
      "source": [
        "import Pkg\n",
        "Pkg.add(\"Plots\")\n",
        "Pkg.add(\"CSV\")\n",
        "Pkg.add(\"DataFrames\")\n",
        "Pkg.add(\"HTTP\")\n",
        "Pkg.add(\"CSVFiles\")\n",
        "Pkg.add(\"CSV\")\n",
        "Pkg.add(\"Formatting\")"
      ],
      "execution_count": null,
      "outputs": [
        {
          "output_type": "stream",
          "text": [
            "\u001b[32m\u001b[1m  Resolving\u001b[22m\u001b[39m package versions...\n",
            "\u001b[32m\u001b[1m  Installed\u001b[22m\u001b[39m PooledArrays ─── v0.5.3\n",
            "\u001b[32m\u001b[1m  Installed\u001b[22m\u001b[39m SentinelArrays ─ v1.2.16\n",
            "\u001b[32m\u001b[1m  Installed\u001b[22m\u001b[39m CSV ──────────── v0.8.2\n",
            "\u001b[32m\u001b[1m   Updating\u001b[22m\u001b[39m `~/.julia/environments/v1.4/Project.toml`\n",
            " \u001b[90m [336ed68f]\u001b[39m\u001b[92m + CSV v0.8.2\u001b[39m\n",
            "\u001b[32m\u001b[1m   Updating\u001b[22m\u001b[39m `~/.julia/environments/v1.4/Manifest.toml`\n",
            " \u001b[90m [336ed68f]\u001b[39m\u001b[92m + CSV v0.8.2\u001b[39m\n",
            " \u001b[90m [2dfb63ee]\u001b[39m\u001b[92m + PooledArrays v0.5.3\u001b[39m\n",
            " \u001b[90m [91c51154]\u001b[39m\u001b[92m + SentinelArrays v1.2.16\u001b[39m\n",
            "\u001b[32m\u001b[1m  Resolving\u001b[22m\u001b[39m package versions...\n",
            "\u001b[32m\u001b[1m  Installed\u001b[22m\u001b[39m Crayons ─────────── v4.0.4\n",
            "\u001b[32m\u001b[1m  Installed\u001b[22m\u001b[39m CategoricalArrays ─ v0.9.0\n",
            "\u001b[32m\u001b[1m  Installed\u001b[22m\u001b[39m StructTypes ─────── v1.1.0\n",
            "\u001b[32m\u001b[1m  Installed\u001b[22m\u001b[39m InvertedIndices ─── v1.0.0\n",
            "\u001b[32m\u001b[1m  Installed\u001b[22m\u001b[39m DataFrames ──────── v0.22.1\n",
            "\u001b[32m\u001b[1m  Installed\u001b[22m\u001b[39m PrettyTables ────── v0.10.1\n",
            "\u001b[32m\u001b[1m   Updating\u001b[22m\u001b[39m `~/.julia/environments/v1.4/Project.toml`\n",
            " \u001b[90m [a93c6f00]\u001b[39m\u001b[92m + DataFrames v0.22.1\u001b[39m\n",
            "\u001b[32m\u001b[1m   Updating\u001b[22m\u001b[39m `~/.julia/environments/v1.4/Manifest.toml`\n",
            " \u001b[90m [324d7699]\u001b[39m\u001b[92m + CategoricalArrays v0.9.0\u001b[39m\n",
            " \u001b[90m [a8cc5b0e]\u001b[39m\u001b[92m + Crayons v4.0.4\u001b[39m\n",
            " \u001b[90m [a93c6f00]\u001b[39m\u001b[92m + DataFrames v0.22.1\u001b[39m\n",
            " \u001b[90m [41ab1584]\u001b[39m\u001b[92m + InvertedIndices v1.0.0\u001b[39m\n",
            " \u001b[90m [08abe8d2]\u001b[39m\u001b[92m + PrettyTables v0.10.1\u001b[39m\n",
            " \u001b[90m [856f2bd8]\u001b[39m\u001b[92m + StructTypes v1.1.0\u001b[39m\n",
            " \u001b[90m [9fa8497b]\u001b[39m\u001b[92m + Future \u001b[39m\n",
            "\u001b[32m\u001b[1m  Resolving\u001b[22m\u001b[39m package versions...\n",
            "\u001b[32m\u001b[1m   Updating\u001b[22m\u001b[39m `~/.julia/environments/v1.4/Project.toml`\n",
            " \u001b[90m [cd3eb016]\u001b[39m\u001b[92m + HTTP v0.8.19\u001b[39m\n",
            "\u001b[32m\u001b[1m   Updating\u001b[22m\u001b[39m `~/.julia/environments/v1.4/Manifest.toml`\n",
            "\u001b[90m [no changes]\u001b[39m\n",
            "\u001b[32m\u001b[1m  Resolving\u001b[22m\u001b[39m package versions...\n",
            "\u001b[32m\u001b[1m  Installed\u001b[22m\u001b[39m XML2_jll ───────────────────── v2.9.10+3\n",
            "\u001b[32m\u001b[1m  Installed\u001b[22m\u001b[39m Mocking ────────────────────── v0.7.1\n",
            "\u001b[32m\u001b[1m  Installed\u001b[22m\u001b[39m OpenSpecFun_jll ────────────── v0.5.3+4\n",
            "\u001b[32m\u001b[1m  Installed\u001b[22m\u001b[39m CSVFiles ───────────────────── v1.0.0\n",
            "\u001b[32m\u001b[1m  Installed\u001b[22m\u001b[39m TextParse ──────────────────── v1.0.1\n",
            "\u001b[32m\u001b[1m  Installed\u001b[22m\u001b[39m Nullables ──────────────────── v1.0.0\n",
            "\u001b[32m\u001b[1m  Installed\u001b[22m\u001b[39m EzXML ──────────────────────── v1.1.0\n",
            "\u001b[32m\u001b[1m  Installed\u001b[22m\u001b[39m GenericSchur ───────────────── v0.4.0\n",
            "\u001b[32m\u001b[1m  Installed\u001b[22m\u001b[39m CodecZlib ──────────────────── v0.6.0\n",
            "\u001b[32m\u001b[1m  Installed\u001b[22m\u001b[39m TableTraitsUtils ───────────── v1.0.1\n",
            "\u001b[32m\u001b[1m  Installed\u001b[22m\u001b[39m TableShowUtils ─────────────── v0.2.5\n",
            "\u001b[32m\u001b[1m  Installed\u001b[22m\u001b[39m BinaryProvider ─────────────── v0.5.10\n",
            "\u001b[32m\u001b[1m  Installed\u001b[22m\u001b[39m DataValues ─────────────────── v0.4.13\n",
            "\u001b[32m\u001b[1m  Installed\u001b[22m\u001b[39m Libiconv_jll ───────────────── v1.16.0+7\n",
            "\u001b[32m\u001b[1m  Installed\u001b[22m\u001b[39m Intervals ──────────────────── v1.5.0\n",
            "\u001b[32m\u001b[1m  Installed\u001b[22m\u001b[39m ExprTools ──────────────────── v0.1.3\n",
            "\u001b[32m\u001b[1m  Installed\u001b[22m\u001b[39m DoubleFloats ───────────────── v1.1.15\n",
            "\u001b[32m\u001b[1m  Installed\u001b[22m\u001b[39m CompilerSupportLibraries_jll ─ v0.3.4+0\n",
            "\u001b[32m\u001b[1m  Installed\u001b[22m\u001b[39m TimeZones ──────────────────── v1.5.2\n",
            "\u001b[32m\u001b[1m  Installed\u001b[22m\u001b[39m Polynomials ────────────────── v1.1.12\n",
            "\u001b[32m\u001b[1m  Installed\u001b[22m\u001b[39m GenericSVD ─────────────────── v0.3.0\n",
            "\u001b[32m\u001b[1m  Installed\u001b[22m\u001b[39m OffsetArrays ───────────────── v1.4.0\n",
            "\u001b[32m\u001b[1m  Installed\u001b[22m\u001b[39m TranscodingStreams ─────────── v0.9.5\n",
            "\u001b[32m\u001b[1m  Installed\u001b[22m\u001b[39m IterableTables ─────────────── v1.0.0\n",
            "\u001b[32m\u001b[1m  Installed\u001b[22m\u001b[39m FileIO ─────────────────────── v1.4.4\n",
            "\u001b[32m\u001b[1m  Installed\u001b[22m\u001b[39m WeakRefStrings ─────────────── v0.6.2\n",
            "\u001b[32m\u001b[1m  Installed\u001b[22m\u001b[39m SpecialFunctions ───────────── v1.0.0\n",
            "\u001b[32m\u001b[1m  Installed\u001b[22m\u001b[39m Quadmath ───────────────────── v0.5.4\n",
            "######################################################################### 100.0%\n",
            "######################################################################### 100.0%\n",
            "######################################################################### 100.0%\n",
            "######################################################################### 100.0%\n",
            "\u001b[32m\u001b[1m   Updating\u001b[22m\u001b[39m `~/.julia/environments/v1.4/Project.toml`\n",
            " \u001b[90m [5d742f6a]\u001b[39m\u001b[92m + CSVFiles v1.0.0\u001b[39m\n",
            "\u001b[32m\u001b[1m   Updating\u001b[22m\u001b[39m `~/.julia/environments/v1.4/Manifest.toml`\n",
            " \u001b[90m [b99e7846]\u001b[39m\u001b[92m + BinaryProvider v0.5.10\u001b[39m\n",
            " \u001b[90m [5d742f6a]\u001b[39m\u001b[92m + CSVFiles v1.0.0\u001b[39m\n",
            " \u001b[90m [944b1d66]\u001b[39m\u001b[92m + CodecZlib v0.6.0\u001b[39m\n",
            " \u001b[90m [e66e0078]\u001b[39m\u001b[92m + CompilerSupportLibraries_jll v0.3.4+0\u001b[39m\n",
            " \u001b[90m [e7dc6d0d]\u001b[39m\u001b[92m + DataValues v0.4.13\u001b[39m\n",
            " \u001b[90m [497a8b3b]\u001b[39m\u001b[92m + DoubleFloats v1.1.15\u001b[39m\n",
            " \u001b[90m [e2ba6199]\u001b[39m\u001b[92m + ExprTools v0.1.3\u001b[39m\n",
            " \u001b[90m [8f5d6c58]\u001b[39m\u001b[92m + EzXML v1.1.0\u001b[39m\n",
            " \u001b[90m [5789e2e9]\u001b[39m\u001b[92m + FileIO v1.4.4\u001b[39m\n",
            " \u001b[90m [01680d73]\u001b[39m\u001b[92m + GenericSVD v0.3.0\u001b[39m\n",
            " \u001b[90m [c145ed77]\u001b[39m\u001b[92m + GenericSchur v0.4.0\u001b[39m\n",
            " \u001b[90m [d8418881]\u001b[39m\u001b[92m + Intervals v1.5.0\u001b[39m\n",
            " \u001b[90m [1c8ee90f]\u001b[39m\u001b[92m + IterableTables v1.0.0\u001b[39m\n",
            " \u001b[90m [94ce4f54]\u001b[39m\u001b[92m + Libiconv_jll v1.16.0+7\u001b[39m\n",
            " \u001b[90m [78c3b35d]\u001b[39m\u001b[92m + Mocking v0.7.1\u001b[39m\n",
            " \u001b[90m [4d1e1d77]\u001b[39m\u001b[92m + Nullables v1.0.0\u001b[39m\n",
            " \u001b[90m [6fe1bfb0]\u001b[39m\u001b[92m + OffsetArrays v1.4.0\u001b[39m\n",
            " \u001b[90m [efe28fd5]\u001b[39m\u001b[92m + OpenSpecFun_jll v0.5.3+4\u001b[39m\n",
            " \u001b[90m [f27b6e38]\u001b[39m\u001b[92m + Polynomials v1.1.12\u001b[39m\n",
            " \u001b[90m [be4d8f0f]\u001b[39m\u001b[92m + Quadmath v0.5.4\u001b[39m\n",
            " \u001b[90m [276daf66]\u001b[39m\u001b[92m + SpecialFunctions v1.0.0\u001b[39m\n",
            " \u001b[90m [5e66a065]\u001b[39m\u001b[92m + TableShowUtils v0.2.5\u001b[39m\n",
            " \u001b[90m [382cd787]\u001b[39m\u001b[92m + TableTraitsUtils v1.0.1\u001b[39m\n",
            " \u001b[90m [e0df1984]\u001b[39m\u001b[92m + TextParse v1.0.1\u001b[39m\n",
            " \u001b[90m [f269a46b]\u001b[39m\u001b[92m + TimeZones v1.5.2\u001b[39m\n",
            " \u001b[90m [3bb67fe8]\u001b[39m\u001b[92m + TranscodingStreams v0.9.5\u001b[39m\n",
            " \u001b[90m [ea10d353]\u001b[39m\u001b[92m + WeakRefStrings v0.6.2\u001b[39m\n",
            " \u001b[90m [02c8fc9c]\u001b[39m\u001b[92m + XML2_jll v2.9.10+3\u001b[39m\n",
            "\u001b[32m\u001b[1m   Building\u001b[22m\u001b[39m CodecZlib → `~/.julia/packages/CodecZlib/5t9zO/deps/build.log`\n",
            "\u001b[32m\u001b[1m   Building\u001b[22m\u001b[39m TimeZones → `~/.julia/packages/TimeZones/AXlxQ/deps/build.log`\n"
          ],
          "name": "stderr"
        }
      ]
    },
    {
      "cell_type": "code",
      "metadata": {
        "id": "xUuHP9_bDb9E",
        "colab": {
          "base_uri": "https://localhost:8080/",
          "height": 456
        },
        "outputId": "9c4449d1-cbd3-46eb-d194-4c6bf390d80c"
      },
      "source": [
        "using Plots\n",
        "plot(rand(5,5),linewidth = 2,title=\"simple plot\")"
      ],
      "execution_count": null,
      "outputs": [
        {
          "output_type": "stream",
          "text": [
            "┌ Info: Precompiling Plots [91a5bcdd-55d7-5caf-9e0b-520d859cae80]\n",
            "└ @ Base loading.jl:1260\n"
          ],
          "name": "stderr"
        },
        {
          "output_type": "execute_result",
          "data": {
            "image/svg+xml": "<?xml version=\"1.0\" encoding=\"utf-8\"?>\n<svg xmlns=\"http://www.w3.org/2000/svg\" xmlns:xlink=\"http://www.w3.org/1999/xlink\" width=\"600\" height=\"400\" viewBox=\"0 0 2400 1600\">\n<defs>\n  <clipPath id=\"clip290\">\n    <rect x=\"0\" y=\"0\" width=\"2400\" height=\"1600\"/>\n  </clipPath>\n</defs>\n<path clip-path=\"url(#clip290)\" d=\"\nM0 1600 L2400 1600 L2400 0 L0 0  Z\n  \" fill=\"#ffffff\" fill-rule=\"evenodd\" fill-opacity=\"1\"/>\n<defs>\n  <clipPath id=\"clip291\">\n    <rect x=\"480\" y=\"0\" width=\"1681\" height=\"1600\"/>\n  </clipPath>\n</defs>\n<path clip-path=\"url(#clip290)\" d=\"\nM148.334 1486.45 L2352.76 1486.45 L2352.76 123.472 L148.334 123.472  Z\n  \" fill=\"#ffffff\" fill-rule=\"evenodd\" fill-opacity=\"1\"/>\n<defs>\n  <clipPath id=\"clip292\">\n    <rect x=\"148\" y=\"123\" width=\"2205\" height=\"1364\"/>\n  </clipPath>\n</defs>\n<polyline clip-path=\"url(#clip292)\" style=\"stroke:#000000; stroke-width:2; stroke-opacity:0.1; fill:none\" points=\"\n  210.724,1486.45 210.724,123.472 \n  \"/>\n<polyline clip-path=\"url(#clip292)\" style=\"stroke:#000000; stroke-width:2; stroke-opacity:0.1; fill:none\" points=\"\n  730.634,1486.45 730.634,123.472 \n  \"/>\n<polyline clip-path=\"url(#clip292)\" style=\"stroke:#000000; stroke-width:2; stroke-opacity:0.1; fill:none\" points=\"\n  1250.55,1486.45 1250.55,123.472 \n  \"/>\n<polyline clip-path=\"url(#clip292)\" style=\"stroke:#000000; stroke-width:2; stroke-opacity:0.1; fill:none\" points=\"\n  1770.46,1486.45 1770.46,123.472 \n  \"/>\n<polyline clip-path=\"url(#clip292)\" style=\"stroke:#000000; stroke-width:2; stroke-opacity:0.1; fill:none\" points=\"\n  2290.37,1486.45 2290.37,123.472 \n  \"/>\n<polyline clip-path=\"url(#clip290)\" style=\"stroke:#000000; stroke-width:4; stroke-opacity:1; fill:none\" points=\"\n  148.334,1486.45 2352.76,1486.45 \n  \"/>\n<polyline clip-path=\"url(#clip290)\" style=\"stroke:#000000; stroke-width:4; stroke-opacity:1; fill:none\" points=\"\n  210.724,1486.45 210.724,1470.09 \n  \"/>\n<polyline clip-path=\"url(#clip290)\" style=\"stroke:#000000; stroke-width:4; stroke-opacity:1; fill:none\" points=\"\n  730.634,1486.45 730.634,1470.09 \n  \"/>\n<polyline clip-path=\"url(#clip290)\" style=\"stroke:#000000; stroke-width:4; stroke-opacity:1; fill:none\" points=\"\n  1250.55,1486.45 1250.55,1470.09 \n  \"/>\n<polyline clip-path=\"url(#clip290)\" style=\"stroke:#000000; stroke-width:4; stroke-opacity:1; fill:none\" points=\"\n  1770.46,1486.45 1770.46,1470.09 \n  \"/>\n<polyline clip-path=\"url(#clip290)\" style=\"stroke:#000000; stroke-width:4; stroke-opacity:1; fill:none\" points=\"\n  2290.37,1486.45 2290.37,1470.09 \n  \"/>\n<path clip-path=\"url(#clip290)\" d=\"M 0 0 M201.106 1543.18 L208.745 1543.18 L208.745 1516.82 L200.434 1518.49 L200.434 1514.23 L208.698 1512.56 L213.374 1512.56 L213.374 1543.18 L221.013 1543.18 L221.013 1547.12 L201.106 1547.12 L201.106 1543.18 Z\" fill=\"#000000\" fill-rule=\"evenodd\" fill-opacity=\"1\" /><path clip-path=\"url(#clip290)\" d=\"M 0 0 M725.287 1543.18 L741.607 1543.18 L741.607 1547.12 L719.662 1547.12 L719.662 1543.18 Q722.324 1540.43 726.908 1535.8 Q731.514 1531.15 732.695 1529.81 Q734.94 1527.28 735.82 1525.55 Q736.722 1523.79 736.722 1522.1 Q736.722 1519.34 734.778 1517.61 Q732.857 1515.87 729.755 1515.87 Q727.556 1515.87 725.102 1516.63 Q722.671 1517.4 719.894 1518.95 L719.894 1514.23 Q722.718 1513.09 725.171 1512.51 Q727.625 1511.93 729.662 1511.93 Q735.033 1511.93 738.227 1514.62 Q741.421 1517.31 741.421 1521.8 Q741.421 1523.93 740.611 1525.85 Q739.824 1527.74 737.718 1530.34 Q737.139 1531.01 734.037 1534.23 Q730.935 1537.42 725.287 1543.18 Z\" fill=\"#000000\" fill-rule=\"evenodd\" fill-opacity=\"1\" /><path clip-path=\"url(#clip290)\" d=\"M 0 0 M1254.79 1528.49 Q1258.15 1529.2 1260.02 1531.47 Q1261.92 1533.74 1261.92 1537.07 Q1261.92 1542.19 1258.4 1544.99 Q1254.89 1547.79 1248.4 1547.79 Q1246.23 1547.79 1243.91 1547.35 Q1241.62 1546.93 1239.17 1546.08 L1239.17 1541.56 Q1241.11 1542.7 1243.43 1543.28 Q1245.74 1543.86 1248.27 1543.86 Q1252.66 1543.86 1254.95 1542.12 Q1257.27 1540.38 1257.27 1537.07 Q1257.27 1534.02 1255.12 1532.31 Q1252.99 1530.57 1249.17 1530.57 L1245.14 1530.57 L1245.14 1526.73 L1249.35 1526.73 Q1252.8 1526.73 1254.63 1525.36 Q1256.46 1523.97 1256.46 1521.38 Q1256.46 1518.72 1254.56 1517.31 Q1252.69 1515.87 1249.17 1515.87 Q1247.25 1515.87 1245.05 1516.29 Q1242.85 1516.7 1240.21 1517.58 L1240.21 1513.42 Q1242.87 1512.68 1245.19 1512.31 Q1247.52 1511.93 1249.58 1511.93 Q1254.91 1511.93 1258.01 1514.37 Q1261.11 1516.77 1261.11 1520.89 Q1261.11 1523.76 1259.47 1525.75 Q1257.83 1527.72 1254.79 1528.49 Z\" fill=\"#000000\" fill-rule=\"evenodd\" fill-opacity=\"1\" /><path clip-path=\"url(#clip290)\" d=\"M 0 0 M1773.47 1516.63 L1761.66 1535.08 L1773.47 1535.08 L1773.47 1516.63 M1772.24 1512.56 L1778.12 1512.56 L1778.12 1535.08 L1783.05 1535.08 L1783.05 1538.97 L1778.12 1538.97 L1778.12 1547.12 L1773.47 1547.12 L1773.47 1538.97 L1757.86 1538.97 L1757.86 1534.46 L1772.24 1512.56 Z\" fill=\"#000000\" fill-rule=\"evenodd\" fill-opacity=\"1\" /><path clip-path=\"url(#clip290)\" d=\"M 0 0 M2280.64 1512.56 L2299 1512.56 L2299 1516.5 L2284.93 1516.5 L2284.93 1524.97 Q2285.95 1524.62 2286.96 1524.46 Q2287.98 1524.27 2289 1524.27 Q2294.79 1524.27 2298.17 1527.44 Q2301.55 1530.62 2301.55 1536.03 Q2301.55 1541.61 2298.07 1544.71 Q2294.6 1547.79 2288.28 1547.79 Q2286.11 1547.79 2283.84 1547.42 Q2281.59 1547.05 2279.19 1546.31 L2279.19 1541.61 Q2281.27 1542.74 2283.49 1543.3 Q2285.71 1543.86 2288.19 1543.86 Q2292.2 1543.86 2294.53 1541.75 Q2296.87 1539.64 2296.87 1536.03 Q2296.87 1532.42 2294.53 1530.31 Q2292.2 1528.21 2288.19 1528.21 Q2286.32 1528.21 2284.44 1528.62 Q2282.59 1529.04 2280.64 1529.92 L2280.64 1512.56 Z\" fill=\"#000000\" fill-rule=\"evenodd\" fill-opacity=\"1\" /><polyline clip-path=\"url(#clip292)\" style=\"stroke:#000000; stroke-width:2; stroke-opacity:0.1; fill:none\" points=\"\n  148.334,1459.95 2352.76,1459.95 \n  \"/>\n<polyline clip-path=\"url(#clip292)\" style=\"stroke:#000000; stroke-width:2; stroke-opacity:0.1; fill:none\" points=\"\n  148.334,1180.19 2352.76,1180.19 \n  \"/>\n<polyline clip-path=\"url(#clip292)\" style=\"stroke:#000000; stroke-width:2; stroke-opacity:0.1; fill:none\" points=\"\n  148.334,900.427 2352.76,900.427 \n  \"/>\n<polyline clip-path=\"url(#clip292)\" style=\"stroke:#000000; stroke-width:2; stroke-opacity:0.1; fill:none\" points=\"\n  148.334,620.664 2352.76,620.664 \n  \"/>\n<polyline clip-path=\"url(#clip292)\" style=\"stroke:#000000; stroke-width:2; stroke-opacity:0.1; fill:none\" points=\"\n  148.334,340.902 2352.76,340.902 \n  \"/>\n<polyline clip-path=\"url(#clip290)\" style=\"stroke:#000000; stroke-width:4; stroke-opacity:1; fill:none\" points=\"\n  148.334,1486.45 148.334,123.472 \n  \"/>\n<polyline clip-path=\"url(#clip290)\" style=\"stroke:#000000; stroke-width:4; stroke-opacity:1; fill:none\" points=\"\n  148.334,1459.95 174.787,1459.95 \n  \"/>\n<polyline clip-path=\"url(#clip290)\" style=\"stroke:#000000; stroke-width:4; stroke-opacity:1; fill:none\" points=\"\n  148.334,1180.19 174.787,1180.19 \n  \"/>\n<polyline clip-path=\"url(#clip290)\" style=\"stroke:#000000; stroke-width:4; stroke-opacity:1; fill:none\" points=\"\n  148.334,900.427 174.787,900.427 \n  \"/>\n<polyline clip-path=\"url(#clip290)\" style=\"stroke:#000000; stroke-width:4; stroke-opacity:1; fill:none\" points=\"\n  148.334,620.664 174.787,620.664 \n  \"/>\n<polyline clip-path=\"url(#clip290)\" style=\"stroke:#000000; stroke-width:4; stroke-opacity:1; fill:none\" points=\"\n  148.334,340.902 174.787,340.902 \n  \"/>\n<path clip-path=\"url(#clip290)\" d=\"M 0 0 M63.4226 1445.75 Q59.8115 1445.75 57.9828 1449.32 Q56.1773 1452.86 56.1773 1459.99 Q56.1773 1467.09 57.9828 1470.66 Q59.8115 1474.2 63.4226 1474.2 Q67.0569 1474.2 68.8624 1470.66 Q70.6911 1467.09 70.6911 1459.99 Q70.6911 1452.86 68.8624 1449.32 Q67.0569 1445.75 63.4226 1445.75 M63.4226 1442.05 Q69.2328 1442.05 72.2883 1446.65 Q75.367 1451.24 75.367 1459.99 Q75.367 1468.71 72.2883 1473.32 Q69.2328 1477.9 63.4226 1477.9 Q57.6125 1477.9 54.5338 1473.32 Q51.4782 1468.71 51.4782 1459.99 Q51.4782 1451.24 54.5338 1446.65 Q57.6125 1442.05 63.4226 1442.05 Z\" fill=\"#000000\" fill-rule=\"evenodd\" fill-opacity=\"1\" /><path clip-path=\"url(#clip290)\" d=\"M 0 0 M80.4364 1471.35 L85.3206 1471.35 L85.3206 1477.23 L80.4364 1477.23 L80.4364 1471.35 Z\" fill=\"#000000\" fill-rule=\"evenodd\" fill-opacity=\"1\" /><path clip-path=\"url(#clip290)\" d=\"M 0 0 M100.39 1445.75 Q96.7789 1445.75 94.9502 1449.32 Q93.1447 1452.86 93.1447 1459.99 Q93.1447 1467.09 94.9502 1470.66 Q96.7789 1474.2 100.39 1474.2 Q104.024 1474.2 105.83 1470.66 Q107.658 1467.09 107.658 1459.99 Q107.658 1452.86 105.83 1449.32 Q104.024 1445.75 100.39 1445.75 M100.39 1442.05 Q106.2 1442.05 109.256 1446.65 Q112.334 1451.24 112.334 1459.99 Q112.334 1468.71 109.256 1473.32 Q106.2 1477.9 100.39 1477.9 Q94.5799 1477.9 91.5012 1473.32 Q88.4456 1468.71 88.4456 1459.99 Q88.4456 1451.24 91.5012 1446.65 Q94.5799 1442.05 100.39 1442.05 Z\" fill=\"#000000\" fill-rule=\"evenodd\" fill-opacity=\"1\" /><path clip-path=\"url(#clip290)\" d=\"M 0 0 M65.0198 1165.99 Q61.4087 1165.99 59.58 1169.55 Q57.7745 1173.1 57.7745 1180.22 Q57.7745 1187.33 59.58 1190.9 Q61.4087 1194.44 65.0198 1194.44 Q68.6541 1194.44 70.4596 1190.9 Q72.2883 1187.33 72.2883 1180.22 Q72.2883 1173.1 70.4596 1169.55 Q68.6541 1165.99 65.0198 1165.99 M65.0198 1162.29 Q70.83 1162.29 73.8855 1166.89 Q76.9642 1171.48 76.9642 1180.22 Q76.9642 1188.95 73.8855 1193.56 Q70.83 1198.14 65.0198 1198.14 Q59.2097 1198.14 56.131 1193.56 Q53.0754 1188.95 53.0754 1180.22 Q53.0754 1171.48 56.131 1166.89 Q59.2097 1162.29 65.0198 1162.29 Z\" fill=\"#000000\" fill-rule=\"evenodd\" fill-opacity=\"1\" /><path clip-path=\"url(#clip290)\" d=\"M 0 0 M82.0336 1191.59 L86.9179 1191.59 L86.9179 1197.47 L82.0336 1197.47 L82.0336 1191.59 Z\" fill=\"#000000\" fill-rule=\"evenodd\" fill-opacity=\"1\" /><path clip-path=\"url(#clip290)\" d=\"M 0 0 M96.015 1193.54 L112.334 1193.54 L112.334 1197.47 L90.3901 1197.47 L90.3901 1193.54 Q93.0521 1190.78 97.6354 1186.15 Q102.242 1181.5 103.422 1180.16 Q105.668 1177.63 106.547 1175.9 Q107.45 1174.14 107.45 1172.45 Q107.45 1169.69 105.506 1167.96 Q103.584 1166.22 100.483 1166.22 Q98.2835 1166.22 95.8298 1166.98 Q93.3993 1167.75 90.6215 1169.3 L90.6215 1164.58 Q93.4456 1163.44 95.8993 1162.86 Q98.353 1162.29 100.39 1162.29 Q105.76 1162.29 108.955 1164.97 Q112.149 1167.66 112.149 1172.15 Q112.149 1174.28 111.339 1176.2 Q110.552 1178.1 108.446 1180.69 Q107.867 1181.36 104.765 1184.58 Q101.663 1187.77 96.015 1193.54 Z\" fill=\"#000000\" fill-rule=\"evenodd\" fill-opacity=\"1\" /><path clip-path=\"url(#clip290)\" d=\"M 0 0 M62.9365 886.226 Q59.3254 886.226 57.4967 889.791 Q55.6912 893.332 55.6912 900.462 Q55.6912 907.569 57.4967 911.133 Q59.3254 914.675 62.9365 914.675 Q66.5707 914.675 68.3763 911.133 Q70.205 907.569 70.205 900.462 Q70.205 893.332 68.3763 889.791 Q66.5707 886.226 62.9365 886.226 M62.9365 882.522 Q68.7467 882.522 71.8022 887.129 Q74.8809 891.712 74.8809 900.462 Q74.8809 909.189 71.8022 913.795 Q68.7467 918.379 62.9365 918.379 Q57.1264 918.379 54.0477 913.795 Q50.9921 909.189 50.9921 900.462 Q50.9921 891.712 54.0477 887.129 Q57.1264 882.522 62.9365 882.522 Z\" fill=\"#000000\" fill-rule=\"evenodd\" fill-opacity=\"1\" /><path clip-path=\"url(#clip290)\" d=\"M 0 0 M79.9503 911.828 L84.8345 911.828 L84.8345 917.707 L79.9503 917.707 L79.9503 911.828 Z\" fill=\"#000000\" fill-rule=\"evenodd\" fill-opacity=\"1\" /><path clip-path=\"url(#clip290)\" d=\"M 0 0 M102.751 887.221 L90.9456 905.67 L102.751 905.67 L102.751 887.221 M101.524 883.147 L107.404 883.147 L107.404 905.67 L112.334 905.67 L112.334 909.559 L107.404 909.559 L107.404 917.707 L102.751 917.707 L102.751 909.559 L87.1493 909.559 L87.1493 905.045 L101.524 883.147 Z\" fill=\"#000000\" fill-rule=\"evenodd\" fill-opacity=\"1\" /><path clip-path=\"url(#clip290)\" d=\"M 0 0 M63.2606 606.463 Q59.6495 606.463 57.8208 610.028 Q56.0152 613.57 56.0152 620.699 Q56.0152 627.806 57.8208 631.37 Q59.6495 634.912 63.2606 634.912 Q66.8948 634.912 68.7004 631.37 Q70.5291 627.806 70.5291 620.699 Q70.5291 613.57 68.7004 610.028 Q66.8948 606.463 63.2606 606.463 M63.2606 602.759 Q69.0707 602.759 72.1263 607.366 Q75.205 611.949 75.205 620.699 Q75.205 629.426 72.1263 634.032 Q69.0707 638.616 63.2606 638.616 Q57.4504 638.616 54.3717 634.032 Q51.3162 629.426 51.3162 620.699 Q51.3162 611.949 54.3717 607.366 Q57.4504 602.759 63.2606 602.759 Z\" fill=\"#000000\" fill-rule=\"evenodd\" fill-opacity=\"1\" /><path clip-path=\"url(#clip290)\" d=\"M 0 0 M80.2744 632.065 L85.1586 632.065 L85.1586 637.944 L80.2744 637.944 L80.2744 632.065 Z\" fill=\"#000000\" fill-rule=\"evenodd\" fill-opacity=\"1\" /><path clip-path=\"url(#clip290)\" d=\"M 0 0 M100.807 618.801 Q97.6585 618.801 95.8067 620.954 Q93.978 623.107 93.978 626.857 Q93.978 630.583 95.8067 632.759 Q97.6585 634.912 100.807 634.912 Q103.955 634.912 105.783 632.759 Q107.635 630.583 107.635 626.857 Q107.635 623.107 105.783 620.954 Q103.955 618.801 100.807 618.801 M110.089 604.148 L110.089 608.408 Q108.33 607.574 106.524 607.134 Q104.742 606.695 102.983 606.695 Q98.353 606.695 95.8993 609.82 Q93.4688 612.945 93.1215 619.264 Q94.4873 617.25 96.5474 616.185 Q98.6076 615.097 101.084 615.097 Q106.293 615.097 109.302 618.269 Q112.334 621.417 112.334 626.857 Q112.334 632.181 109.186 635.398 Q106.038 638.616 100.807 638.616 Q94.8113 638.616 91.6401 634.032 Q88.4688 629.426 88.4688 620.699 Q88.4688 612.505 92.3576 607.644 Q96.2465 602.759 102.797 602.759 Q104.557 602.759 106.339 603.107 Q108.145 603.454 110.089 604.148 Z\" fill=\"#000000\" fill-rule=\"evenodd\" fill-opacity=\"1\" /><path clip-path=\"url(#clip290)\" d=\"M 0 0 M63.5152 326.7 Q59.9041 326.7 58.0754 330.265 Q56.2699 333.807 56.2699 340.936 Q56.2699 348.043 58.0754 351.608 Q59.9041 355.149 63.5152 355.149 Q67.1494 355.149 68.955 351.608 Q70.7837 348.043 70.7837 340.936 Q70.7837 333.807 68.955 330.265 Q67.1494 326.7 63.5152 326.7 M63.5152 322.997 Q69.3254 322.997 72.3809 327.603 Q75.4596 332.186 75.4596 340.936 Q75.4596 349.663 72.3809 354.27 Q69.3254 358.853 63.5152 358.853 Q57.7051 358.853 54.6264 354.27 Q51.5708 349.663 51.5708 340.936 Q51.5708 332.186 54.6264 327.603 Q57.7051 322.997 63.5152 322.997 Z\" fill=\"#000000\" fill-rule=\"evenodd\" fill-opacity=\"1\" /><path clip-path=\"url(#clip290)\" d=\"M 0 0 M80.529 352.302 L85.4132 352.302 L85.4132 358.182 L80.529 358.182 L80.529 352.302 Z\" fill=\"#000000\" fill-rule=\"evenodd\" fill-opacity=\"1\" /><path clip-path=\"url(#clip290)\" d=\"M 0 0 M100.483 341.77 Q97.1493 341.77 95.228 343.552 Q93.3299 345.334 93.3299 348.459 Q93.3299 351.584 95.228 353.367 Q97.1493 355.149 100.483 355.149 Q103.816 355.149 105.737 353.367 Q107.658 351.561 107.658 348.459 Q107.658 345.334 105.737 343.552 Q103.839 341.77 100.483 341.77 M95.8067 339.779 Q92.7975 339.038 91.1077 336.978 Q89.441 334.918 89.441 331.955 Q89.441 327.811 92.3808 325.404 Q95.3437 322.997 100.483 322.997 Q105.645 322.997 108.584 325.404 Q111.524 327.811 111.524 331.955 Q111.524 334.918 109.834 336.978 Q108.168 339.038 105.182 339.779 Q108.561 340.566 110.436 342.858 Q112.334 345.149 112.334 348.459 Q112.334 353.483 109.256 356.168 Q106.2 358.853 100.483 358.853 Q94.765 358.853 91.6864 356.168 Q88.6308 353.483 88.6308 348.459 Q88.6308 345.149 90.529 342.858 Q92.4271 340.566 95.8067 339.779 M94.0937 332.395 Q94.0937 335.08 95.7604 336.584 Q97.4502 338.089 100.483 338.089 Q103.492 338.089 105.182 336.584 Q106.895 335.08 106.895 332.395 Q106.895 329.71 105.182 328.205 Q103.492 326.7 100.483 326.7 Q97.4502 326.7 95.7604 328.205 Q94.0937 329.71 94.0937 332.395 Z\" fill=\"#000000\" fill-rule=\"evenodd\" fill-opacity=\"1\" /><path clip-path=\"url(#clip290)\" d=\"M 0 0 M1082.66 28.5427 L1082.66 35.5912 Q1079.5 33.9709 1076.09 33.1607 Q1072.69 32.3505 1069.04 32.3505 Q1063.49 32.3505 1060.7 34.0519 Q1057.94 35.7533 1057.94 39.156 Q1057.94 41.7486 1059.93 43.2475 Q1061.91 44.7058 1067.91 46.0426 L1070.46 46.6097 Q1078.4 48.3111 1081.72 51.4303 Q1085.09 54.509 1085.09 60.0587 Q1085.09 66.3781 1080.06 70.0644 Q1075.08 73.7508 1066.33 73.7508 Q1062.68 73.7508 1058.71 73.0216 Q1054.79 72.3329 1050.41 70.9151 L1050.41 63.2184 Q1054.54 65.3654 1058.55 66.4591 Q1062.56 67.5124 1066.49 67.5124 Q1071.76 67.5124 1074.59 65.73 Q1077.43 63.9071 1077.43 60.6258 Q1077.43 57.5877 1075.36 55.9673 Q1073.34 54.3469 1066.41 52.8481 L1063.82 52.2405 Q1056.89 50.7821 1053.81 47.7845 Q1050.73 44.7463 1050.73 39.4801 Q1050.73 33.0797 1055.27 29.5959 Q1059.81 26.1121 1068.15 26.1121 Q1072.29 26.1121 1075.93 26.7198 Q1079.58 27.3274 1082.66 28.5427 Z\" fill=\"#000000\" fill-rule=\"evenodd\" fill-opacity=\"1\" /><path clip-path=\"url(#clip290)\" d=\"M 0 0 M1092.9 27.2059 L1100.36 27.2059 L1100.36 72.576 L1092.9 72.576 L1092.9 27.2059 M1092.9 9.54393 L1100.36 9.54393 L1100.36 18.9825 L1092.9 18.9825 L1092.9 9.54393 Z\" fill=\"#000000\" fill-rule=\"evenodd\" fill-opacity=\"1\" /><path clip-path=\"url(#clip290)\" d=\"M 0 0 M1143.5 35.9153 Q1146.3 30.8922 1150.18 28.5022 Q1154.07 26.1121 1159.34 26.1121 Q1166.43 26.1121 1170.28 31.0947 Q1174.12 36.0368 1174.12 45.1919 L1174.12 72.576 L1166.63 72.576 L1166.63 45.4349 Q1166.63 38.913 1164.32 35.7533 Q1162.01 32.5936 1157.27 32.5936 Q1151.48 32.5936 1148.12 36.4419 Q1144.76 40.2903 1144.76 46.9338 L1144.76 72.576 L1137.26 72.576 L1137.26 45.4349 Q1137.26 38.8725 1134.95 35.7533 Q1132.64 32.5936 1127.82 32.5936 Q1122.11 32.5936 1118.75 36.4824 Q1115.39 40.3308 1115.39 46.9338 L1115.39 72.576 L1107.89 72.576 L1107.89 27.2059 L1115.39 27.2059 L1115.39 34.2544 Q1117.94 30.082 1121.5 28.0971 Q1125.07 26.1121 1129.97 26.1121 Q1134.91 26.1121 1138.36 28.6237 Q1141.84 31.1352 1143.5 35.9153 Z\" fill=\"#000000\" fill-rule=\"evenodd\" fill-opacity=\"1\" /><path clip-path=\"url(#clip290)\" d=\"M 0 0 M1189.15 65.7705 L1189.15 89.8329 L1181.66 89.8329 L1181.66 27.2059 L1189.15 27.2059 L1189.15 34.0924 Q1191.5 30.0415 1195.07 28.0971 Q1198.67 26.1121 1203.66 26.1121 Q1211.92 26.1121 1217.06 32.6746 Q1222.25 39.2371 1222.25 49.9314 Q1222.25 60.6258 1217.06 67.1883 Q1211.92 73.7508 1203.66 73.7508 Q1198.67 73.7508 1195.07 71.8063 Q1191.5 69.8214 1189.15 65.7705 M1214.51 49.9314 Q1214.51 41.7081 1211.11 37.0496 Q1207.75 32.3505 1201.83 32.3505 Q1195.92 32.3505 1192.52 37.0496 Q1189.15 41.7081 1189.15 49.9314 Q1189.15 58.1548 1192.52 62.8538 Q1195.92 67.5124 1201.83 67.5124 Q1207.75 67.5124 1211.11 62.8538 Q1214.51 58.1548 1214.51 49.9314 Z\" fill=\"#000000\" fill-rule=\"evenodd\" fill-opacity=\"1\" /><path clip-path=\"url(#clip290)\" d=\"M 0 0 M1230.07 9.54393 L1237.52 9.54393 L1237.52 72.576 L1230.07 72.576 L1230.07 9.54393 Z\" fill=\"#000000\" fill-rule=\"evenodd\" fill-opacity=\"1\" /><path clip-path=\"url(#clip290)\" d=\"M 0 0 M1284.15 48.0275 L1284.15 51.6733 L1249.88 51.6733 Q1250.36 59.3701 1254.49 63.421 Q1258.67 67.4314 1266.08 67.4314 Q1270.37 67.4314 1274.38 66.3781 Q1278.44 65.3249 1282.41 63.2184 L1282.41 70.267 Q1278.4 71.9684 1274.18 72.8596 Q1269.97 73.7508 1265.63 73.7508 Q1254.78 73.7508 1248.42 67.4314 Q1242.1 61.1119 1242.1 50.3365 Q1242.1 39.1965 1248.09 32.6746 Q1254.13 26.1121 1264.34 26.1121 Q1273.49 26.1121 1278.8 32.0264 Q1284.15 37.9003 1284.15 48.0275 M1276.69 45.84 Q1276.61 39.7232 1273.25 36.0774 Q1269.93 32.4315 1264.42 32.4315 Q1258.18 32.4315 1254.41 35.9558 Q1250.69 39.4801 1250.12 45.8805 L1276.69 45.84 Z\" fill=\"#000000\" fill-rule=\"evenodd\" fill-opacity=\"1\" /><path clip-path=\"url(#clip290)\" d=\"M 0 0 M1325.55 65.7705 L1325.55 89.8329 L1318.05 89.8329 L1318.05 27.2059 L1325.55 27.2059 L1325.55 34.0924 Q1327.9 30.0415 1331.46 28.0971 Q1335.07 26.1121 1340.05 26.1121 Q1348.31 26.1121 1353.46 32.6746 Q1358.64 39.2371 1358.64 49.9314 Q1358.64 60.6258 1353.46 67.1883 Q1348.31 73.7508 1340.05 73.7508 Q1335.07 73.7508 1331.46 71.8063 Q1327.9 69.8214 1325.55 65.7705 M1350.91 49.9314 Q1350.91 41.7081 1347.5 37.0496 Q1344.14 32.3505 1338.23 32.3505 Q1332.31 32.3505 1328.91 37.0496 Q1325.55 41.7081 1325.55 49.9314 Q1325.55 58.1548 1328.91 62.8538 Q1332.31 67.5124 1338.23 67.5124 Q1344.14 67.5124 1347.5 62.8538 Q1350.91 58.1548 1350.91 49.9314 Z\" fill=\"#000000\" fill-rule=\"evenodd\" fill-opacity=\"1\" /><path clip-path=\"url(#clip290)\" d=\"M 0 0 M1366.46 9.54393 L1373.92 9.54393 L1373.92 72.576 L1366.46 72.576 L1366.46 9.54393 Z\" fill=\"#000000\" fill-rule=\"evenodd\" fill-opacity=\"1\" /><path clip-path=\"url(#clip290)\" d=\"M 0 0 M1399.31 32.4315 Q1393.32 32.4315 1389.84 37.1306 Q1386.35 41.7891 1386.35 49.9314 Q1386.35 58.0738 1389.79 62.7728 Q1393.28 67.4314 1399.31 67.4314 Q1405.27 67.4314 1408.75 62.7323 Q1412.24 58.0333 1412.24 49.9314 Q1412.24 41.8701 1408.75 37.1711 Q1405.27 32.4315 1399.31 32.4315 M1399.31 26.1121 Q1409.04 26.1121 1414.59 32.4315 Q1420.14 38.7509 1420.14 49.9314 Q1420.14 61.0714 1414.59 67.4314 Q1409.04 73.7508 1399.31 73.7508 Q1389.55 73.7508 1384 67.4314 Q1378.49 61.0714 1378.49 49.9314 Q1378.49 38.7509 1384 32.4315 Q1389.55 26.1121 1399.31 26.1121 Z\" fill=\"#000000\" fill-rule=\"evenodd\" fill-opacity=\"1\" /><path clip-path=\"url(#clip290)\" d=\"M 0 0 M1435.33 14.324 L1435.33 27.2059 L1450.68 27.2059 L1450.68 32.9987 L1435.33 32.9987 L1435.33 57.6282 Q1435.33 63.1779 1436.83 64.7578 Q1438.37 66.3376 1443.02 66.3376 L1450.68 66.3376 L1450.68 72.576 L1443.02 72.576 Q1434.4 72.576 1431.11 69.3758 Q1427.83 66.1351 1427.83 57.6282 L1427.83 32.9987 L1422.36 32.9987 L1422.36 27.2059 L1427.83 27.2059 L1427.83 14.324 L1435.33 14.324 Z\" fill=\"#000000\" fill-rule=\"evenodd\" fill-opacity=\"1\" /><polyline clip-path=\"url(#clip292)\" style=\"stroke:#009af9; stroke-width:8; stroke-opacity:1; fill:none\" points=\"\n  210.724,162.047 730.634,256.292 1250.55,385.285 1770.46,471.899 2290.37,254.615 \n  \"/>\n<polyline clip-path=\"url(#clip292)\" style=\"stroke:#e26f46; stroke-width:8; stroke-opacity:1; fill:none\" points=\"\n  210.724,983.548 730.634,883.374 1250.55,293.467 1770.46,1322.55 2290.37,1339.64 \n  \"/>\n<polyline clip-path=\"url(#clip292)\" style=\"stroke:#3da44d; stroke-width:8; stroke-opacity:1; fill:none\" points=\"\n  210.724,561.019 730.634,1230.97 1250.55,1233.89 1770.46,389.189 2290.37,605.451 \n  \"/>\n<polyline clip-path=\"url(#clip292)\" style=\"stroke:#c271d2; stroke-width:8; stroke-opacity:1; fill:none\" points=\"\n  210.724,1318.24 730.634,905.18 1250.55,1447.87 1770.46,754.321 2290.37,972.938 \n  \"/>\n<polyline clip-path=\"url(#clip292)\" style=\"stroke:#ac8d18; stroke-width:8; stroke-opacity:1; fill:none\" points=\"\n  210.724,1069.52 730.634,875.963 1250.55,1415.37 1770.46,678.565 2290.37,1236.15 \n  \"/>\n<path clip-path=\"url(#clip290)\" d=\"\nM1981.61 531.785 L2279.28 531.785 L2279.28 168.905 L1981.61 168.905  Z\n  \" fill=\"#ffffff\" fill-rule=\"evenodd\" fill-opacity=\"1\"/>\n<polyline clip-path=\"url(#clip290)\" style=\"stroke:#000000; stroke-width:4; stroke-opacity:1; fill:none\" points=\"\n  1981.61,531.785 2279.28,531.785 2279.28,168.905 1981.61,168.905 1981.61,531.785 \n  \"/>\n<polyline clip-path=\"url(#clip290)\" style=\"stroke:#009af9; stroke-width:4; stroke-opacity:1; fill:none\" points=\"\n  2006.1,229.385 2153.06,229.385 \n  \"/>\n<path clip-path=\"url(#clip290)\" d=\"M 0 0 M2191.4 249.072 Q2189.59 253.702 2187.88 255.114 Q2186.17 256.526 2183.3 256.526 L2179.89 256.526 L2179.89 252.961 L2182.39 252.961 Q2184.15 252.961 2185.13 252.128 Q2186.1 251.294 2187.28 248.192 L2188.04 246.248 L2177.56 220.739 L2182.07 220.739 L2190.17 241.017 L2198.27 220.739 L2202.79 220.739 L2191.4 249.072 Z\" fill=\"#000000\" fill-rule=\"evenodd\" fill-opacity=\"1\" /><path clip-path=\"url(#clip290)\" d=\"M 0 0 M2208.67 242.729 L2216.31 242.729 L2216.31 216.364 L2208 218.031 L2208 213.771 L2216.26 212.105 L2220.94 212.105 L2220.94 242.729 L2228.58 242.729 L2228.58 246.665 L2208.67 246.665 L2208.67 242.729 Z\" fill=\"#000000\" fill-rule=\"evenodd\" fill-opacity=\"1\" /><polyline clip-path=\"url(#clip290)\" style=\"stroke:#e26f46; stroke-width:4; stroke-opacity:1; fill:none\" points=\"\n  2006.1,289.865 2153.06,289.865 \n  \"/>\n<path clip-path=\"url(#clip290)\" d=\"M 0 0 M2191.4 309.552 Q2189.59 314.182 2187.88 315.594 Q2186.17 317.006 2183.3 317.006 L2179.89 317.006 L2179.89 313.441 L2182.39 313.441 Q2184.15 313.441 2185.13 312.608 Q2186.1 311.774 2187.28 308.672 L2188.04 306.728 L2177.56 281.219 L2182.07 281.219 L2190.17 301.497 L2198.27 281.219 L2202.79 281.219 L2191.4 309.552 Z\" fill=\"#000000\" fill-rule=\"evenodd\" fill-opacity=\"1\" /><path clip-path=\"url(#clip290)\" d=\"M 0 0 M2211.89 303.209 L2228.2 303.209 L2228.2 307.145 L2206.26 307.145 L2206.26 303.209 Q2208.92 300.455 2213.51 295.825 Q2218.11 291.173 2219.29 289.83 Q2221.54 287.307 2222.42 285.571 Q2223.32 283.811 2223.32 282.122 Q2223.32 279.367 2221.38 277.631 Q2219.45 275.895 2216.35 275.895 Q2214.15 275.895 2211.7 276.659 Q2209.27 277.423 2206.49 278.974 L2206.49 274.251 Q2209.32 273.117 2211.77 272.538 Q2214.22 271.96 2216.26 271.96 Q2221.63 271.96 2224.83 274.645 Q2228.02 277.33 2228.02 281.821 Q2228.02 283.95 2227.21 285.872 Q2226.42 287.77 2224.32 290.362 Q2223.74 291.034 2220.64 294.251 Q2217.53 297.446 2211.89 303.209 Z\" fill=\"#000000\" fill-rule=\"evenodd\" fill-opacity=\"1\" /><polyline clip-path=\"url(#clip290)\" style=\"stroke:#3da44d; stroke-width:4; stroke-opacity:1; fill:none\" points=\"\n  2006.1,350.345 2153.06,350.345 \n  \"/>\n<path clip-path=\"url(#clip290)\" d=\"M 0 0 M2191.4 370.032 Q2189.59 374.662 2187.88 376.074 Q2186.17 377.486 2183.3 377.486 L2179.89 377.486 L2179.89 373.921 L2182.39 373.921 Q2184.15 373.921 2185.13 373.088 Q2186.1 372.254 2187.28 369.152 L2188.04 367.208 L2177.56 341.699 L2182.07 341.699 L2190.17 361.977 L2198.27 341.699 L2202.79 341.699 L2191.4 370.032 Z\" fill=\"#000000\" fill-rule=\"evenodd\" fill-opacity=\"1\" /><path clip-path=\"url(#clip290)\" d=\"M 0 0 M2222.02 348.99 Q2225.38 349.708 2227.26 351.977 Q2229.15 354.245 2229.15 357.578 Q2229.15 362.694 2225.64 365.495 Q2222.12 368.296 2215.64 368.296 Q2213.46 368.296 2211.14 367.856 Q2208.85 367.439 2206.4 366.583 L2206.4 362.069 Q2208.34 363.203 2210.66 363.782 Q2212.97 364.361 2215.5 364.361 Q2219.89 364.361 2222.19 362.625 Q2224.5 360.889 2224.5 357.578 Q2224.5 354.523 2222.35 352.81 Q2220.22 351.074 2216.4 351.074 L2212.37 351.074 L2212.37 347.231 L2216.58 347.231 Q2220.03 347.231 2221.86 345.866 Q2223.69 344.477 2223.69 341.884 Q2223.69 339.222 2221.79 337.81 Q2219.92 336.375 2216.4 336.375 Q2214.48 336.375 2212.28 336.791 Q2210.08 337.208 2207.44 338.088 L2207.44 333.921 Q2210.1 333.18 2212.42 332.81 Q2214.76 332.44 2216.82 332.44 Q2222.14 332.44 2225.24 334.87 Q2228.34 337.278 2228.34 341.398 Q2228.34 344.268 2226.7 346.259 Q2225.06 348.227 2222.02 348.99 Z\" fill=\"#000000\" fill-rule=\"evenodd\" fill-opacity=\"1\" /><polyline clip-path=\"url(#clip290)\" style=\"stroke:#c271d2; stroke-width:4; stroke-opacity:1; fill:none\" points=\"\n  2006.1,410.825 2153.06,410.825 \n  \"/>\n<path clip-path=\"url(#clip290)\" d=\"M 0 0 M2191.4 430.512 Q2189.59 435.142 2187.88 436.554 Q2186.17 437.966 2183.3 437.966 L2179.89 437.966 L2179.89 434.401 L2182.39 434.401 Q2184.15 434.401 2185.13 433.568 Q2186.1 432.734 2187.28 429.632 L2188.04 427.688 L2177.56 402.179 L2182.07 402.179 L2190.17 422.457 L2198.27 402.179 L2202.79 402.179 L2191.4 430.512 Z\" fill=\"#000000\" fill-rule=\"evenodd\" fill-opacity=\"1\" /><path clip-path=\"url(#clip290)\" d=\"M 0 0 M2220.7 397.619 L2208.9 416.068 L2220.7 416.068 L2220.7 397.619 M2219.48 393.545 L2225.36 393.545 L2225.36 416.068 L2230.29 416.068 L2230.29 419.957 L2225.36 419.957 L2225.36 428.105 L2220.7 428.105 L2220.7 419.957 L2205.1 419.957 L2205.1 415.443 L2219.48 393.545 Z\" fill=\"#000000\" fill-rule=\"evenodd\" fill-opacity=\"1\" /><polyline clip-path=\"url(#clip290)\" style=\"stroke:#ac8d18; stroke-width:4; stroke-opacity:1; fill:none\" points=\"\n  2006.1,471.305 2153.06,471.305 \n  \"/>\n<path clip-path=\"url(#clip290)\" d=\"M 0 0 M2191.4 490.992 Q2189.59 495.622 2187.88 497.034 Q2186.17 498.446 2183.3 498.446 L2179.89 498.446 L2179.89 494.881 L2182.39 494.881 Q2184.15 494.881 2185.13 494.048 Q2186.1 493.214 2187.28 490.112 L2188.04 488.168 L2177.56 462.659 L2182.07 462.659 L2190.17 482.937 L2198.27 462.659 L2202.79 462.659 L2191.4 490.992 Z\" fill=\"#000000\" fill-rule=\"evenodd\" fill-opacity=\"1\" /><path clip-path=\"url(#clip290)\" d=\"M 0 0 M2207.9 454.025 L2226.26 454.025 L2226.26 457.96 L2212.19 457.96 L2212.19 466.432 Q2213.2 466.085 2214.22 465.923 Q2215.24 465.738 2216.26 465.738 Q2222.05 465.738 2225.43 468.909 Q2228.81 472.08 2228.81 477.497 Q2228.81 483.075 2225.33 486.177 Q2221.86 489.256 2215.54 489.256 Q2213.37 489.256 2211.1 488.886 Q2208.85 488.515 2206.45 487.774 L2206.45 483.075 Q2208.53 484.21 2210.75 484.765 Q2212.97 485.321 2215.45 485.321 Q2219.45 485.321 2221.79 483.214 Q2224.13 481.108 2224.13 477.497 Q2224.13 473.886 2221.79 471.779 Q2219.45 469.673 2215.45 469.673 Q2213.58 469.673 2211.7 470.089 Q2209.85 470.506 2207.9 471.386 L2207.9 454.025 Z\" fill=\"#000000\" fill-rule=\"evenodd\" fill-opacity=\"1\" /></svg>\n"
          },
          "metadata": {
            "tags": []
          },
          "execution_count": 3
        }
      ]
    },
    {
      "cell_type": "code",
      "metadata": {
        "id": "8XlC6_oZH-nW"
      },
      "source": [
        "# using HTTP, DataFrames, CSV # load packages\n",
        "#r = HTTP.get(\"https://raw.githubusercontent.com/nytimes/covid-19-data/master/us-states.csv\")\n",
        "#d = HTTP.get(\"https://github.com/nytimes/covid-19-data/blob/master/us-states.csv\")\n",
        "url = \"https://raw.githubusercontent.com/nytimes/covid-19-data/master/us-states.csv\""
      ],
      "execution_count": null,
      "outputs": []
    },
    {
      "cell_type": "code",
      "metadata": {
        "id": "yk7J84OQrJnx"
      },
      "source": [
        "using CSVFiles, DataFrames\n",
        "\n",
        "CSV.File(download(url))\n",
        "d = download(\"https://raw.githubusercontent.com/nytimes/covid-19-data/master/us-states.csv\",\"us-states.csv\" )\n",
        "f = CSV.File(d)\n",
        "\n",
        "# load as a DF\n",
        "df = DataFrame(load(d))"
      ],
      "execution_count": null,
      "outputs": []
    },
    {
      "cell_type": "code",
      "metadata": {
        "id": "VAoIA0Rb25MN"
      },
      "source": [
        "x = 1:12\n",
        "y = rand(10) # These are the plotting data \n",
        "plot(x,y, label=\"my label\")"
      ],
      "execution_count": null,
      "outputs": []
    },
    {
      "cell_type": "code",
      "metadata": {
        "id": "z0lLRLQ1ziWO"
      },
      "source": [
        "# get the size of the data set\n",
        "tup = size(df.date) # SIZE OF CSV/ ARRAY\n",
        "num_rows = tup[1]"
      ],
      "execution_count": null,
      "outputs": []
    },
    {
      "cell_type": "code",
      "metadata": {
        "id": "8Jfx3OTbtFA7"
      },
      "source": [
        "#Make an array of dates\n",
        "dates = []\n",
        "jan = 0; feb = 0; march = 0; april = 0; may = 0; june = 0; july = 0;august = 0; september = 0; october = 0; november = 0; december = 0;\n",
        "\n",
        "months = []\n",
        "for i = 1:num_rows\n",
        "           date = df.date[i]\n",
        "           push!(dates,date)\n",
        "           # get the months of each point\n",
        "           a = string(dates[i])\n",
        "\n",
        "          # if month = jan , add a count to jan\n",
        "          if a[6:7] == \"01\"             \n",
        "            global jan = jan + 1           \n",
        "          elseif a[6:7] == \"02\" \n",
        "            global feb = feb + 1            \n",
        "          elseif a[6:7] == \"03\" \n",
        "            global march = march + 1\n",
        "          elseif a[6:7] == \"04\"             \n",
        "            global april = april + 1           \n",
        "          elseif a[6:7] == \"05\" \n",
        "            global may = may + 1            \n",
        "          elseif a[6:7] == \"06\" \n",
        "            global june = june + 1\n",
        "          elseif a[6:7] == \"07\" \n",
        "            global july = july + 1\n",
        "          elseif a[6:7] == \"08\"             \n",
        "            global august = august + 1           \n",
        "          elseif a[6:7] == \"09\" \n",
        "            global september = september + 1            \n",
        "          elseif a[6:7] == \"10\" \n",
        "            global october = october + 1\n",
        "          elseif a[6:7] == \"10\" \n",
        "            global december = december + 1\n",
        "              \n",
        "           end\n",
        "           \n",
        "          \n",
        "end\n",
        "push!(months,jan)\n",
        "push!(months,feb)\n",
        "push!(months,march)\n",
        "push!(months,april)\n",
        "push!(months,may)\n",
        "push!(months,june)\n",
        "push!(months,july)\n",
        "push!(months,august)\n",
        "push!(months,september)\n",
        "push!(months,october)\n",
        "#push!(months,november)\n",
        "#push!(months,december)\n",
        "\n",
        "\n",
        "\n",
        "#dates[1] # still cant access 0 index. type is at 0 index\n",
        "\n",
        "typeof(dates) # array\n",
        "typeof(df) # dataFrame\n",
        "dates[3]\n"
      ],
      "execution_count": null,
      "outputs": []
    },
    {
      "cell_type": "code",
      "metadata": {
        "id": "GwMWwXIP7Z52"
      },
      "source": [
        "x = months\n",
        "l = [0,1,2,9,4,5]\n",
        "y =  months # These are the plotting data \n",
        "plot(x,y, label=\"my label\")"
      ],
      "execution_count": null,
      "outputs": []
    },
    {
      "cell_type": "code",
      "metadata": {
        "id": "oRw_WUVczIb6"
      },
      "source": [
        "# Same thing\n",
        "jan == months[1]"
      ],
      "execution_count": null,
      "outputs": []
    },
    {
      "cell_type": "code",
      "metadata": {
        "id": "EgbfCxPLxM6z"
      },
      "source": [
        "a = string(dates[1])\n"
      ],
      "execution_count": null,
      "outputs": []
    },
    {
      "cell_type": "code",
      "metadata": {
        "id": "g0hBrFWug-wH"
      },
      "source": [
        "#example plot\n",
        "x = 1:6\n",
        "l = [0,1,2,9,4,5]\n",
        "y =  l # These are the plotting data \n",
        "plot(x,y, label=\"my label\")\n"
      ],
      "execution_count": null,
      "outputs": []
    }
  ]
}