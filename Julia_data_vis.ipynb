{
  "nbformat": 4,
  "nbformat_minor": 0,
  "metadata": {
    "colab": {
      "name": "Julia data vis",
      "provenance": [],
      "collapsed_sections": [],
      "include_colab_link": true
    },
    "kernelspec": {
      "display_name": "Julia",
      "language": "julia",
      "name": "julia"
    },
    "language_info": {
      "file_extension": ".jl",
      "mimetype": "application/julia",
      "name": "julia"
    }
  },
  "cells": [
    {
      "cell_type": "markdown",
      "metadata": {
        "id": "view-in-github",
        "colab_type": "text"
      },
      "source": [
        "<a href=\"https://colab.research.google.com/github/antonbaron10/ProgLangJuliaProject/blob/master/Julia_data_vis.ipynb\" target=\"_parent\"><img src=\"https://colab.research.google.com/assets/colab-badge.svg\" alt=\"Open In Colab\"/></a>"
      ]
    },
    {
      "cell_type": "code",
      "metadata": {
        "id": "MS30xW09Jjkl"
      },
      "source": [
        "# tutorial"
      ],
      "execution_count": null,
      "outputs": []
    },
    {
      "cell_type": "code",
      "metadata": {
        "colab": {
          "base_uri": "https://localhost:8080/"
        },
        "id": "Lespvid776c-",
        "outputId": "1aa30de1-4bb4-467e-fdc8-31a5c83a5d66"
      },
      "source": [
        "%%shell\n",
        "set -e\n",
        "\n",
        "#---------------------------------------------------#\n",
        "JULIA_VERSION=\"1.4.2\" # any version ≥ 0.7.0\n",
        "JULIA_PACKAGES=\"IJulia BenchmarkTools PyCall PyPlot\"\n",
        "JULIA_PACKAGES_IF_GPU=\"CUDA\"\n",
        "JULIA_NUM_THREADS=4\n",
        "#---------------------------------------------------#\n",
        "\n",
        "if [ -n \"$COLAB_GPU\" ] && [ -z `which julia` ]; then\n",
        "  # Install Julia\n",
        "  JULIA_VER=`cut -d '.' -f -2 <<< \"$JULIA_VERSION\"`\n",
        "  echo \"Installing Julia $JULIA_VERSION on the current Colab Runtime...\"\n",
        "  BASE_URL=\"https://julialang-s3.julialang.org/bin/linux/x64\"\n",
        "  URL=\"$BASE_URL/$JULIA_VER/julia-$JULIA_VERSION-linux-x86_64.tar.gz\"\n",
        "  wget -nv $URL -O /tmp/julia.tar.gz # -nv means \"not verbose\"\n",
        "  tar -x -f /tmp/julia.tar.gz -C /usr/local --strip-components 1\n",
        "  rm /tmp/julia.tar.gz\n",
        "\n",
        "  # Install Packages\n",
        "  if [ \"$COLAB_GPU\" = \"1\" ]; then\n",
        "      JULIA_PACKAGES=\"$JULIA_PACKAGES $JULIA_PACKAGES_IF_GPU\"\n",
        "  fi\n",
        "  for PKG in `echo $JULIA_PACKAGES`; do\n",
        "    echo \"Installing Julia package $PKG...\"\n",
        "    julia -e 'using Pkg; pkg\"add '$PKG'; precompile;\"'\n",
        "  done\n",
        "\n",
        "  # Install kernel and rename it to \"julia\"\n",
        "  echo \"Installing IJulia kernel...\"\n",
        "  julia -e 'using IJulia; IJulia.installkernel(\"julia\", env=Dict(\n",
        "      \"JULIA_NUM_THREADS\"=>\"'\"$JULIA_NUM_THREADS\"'\"))'\n",
        "  KERNEL_DIR=`julia -e \"using IJulia; print(IJulia.kerneldir())\"`\n",
        "  KERNEL_NAME=`ls -d \"$KERNEL_DIR\"/julia*`\n",
        "  mv -f $KERNEL_NAME \"$KERNEL_DIR\"/julia  \n",
        "\n",
        "  echo ''\n",
        "  echo \"Successfully installed `julia -v`!\"\n",
        "  echo \"Please reload this page (press Ctrl+R, ⌘+R, or the F5 key) then\"\n",
        "  echo \"jump to the 'Checking the Installation' section.\"\n",
        "fi"
      ],
      "execution_count": null,
      "outputs": [
        {
          "output_type": "stream",
          "text": [
            "Installing Julia 1.4.2 on the current Colab Runtime...\n",
            "2020-12-01 03:08:02 URL:https://storage.googleapis.com/julialang2/bin/linux/x64/1.4/julia-1.4.2-linux-x86_64.tar.gz [99093958/99093958] -> \"/tmp/julia.tar.gz\" [1]\n",
            "Installing Julia package IJulia...\n",
            "    Cloning default registries into `~/.julia`\n",
            "    Cloning registry from \"https://github.com/JuliaRegistries/General.git\"\n",
            "\u001b[2K\u001b[?25h      Added registry `General` to `~/.julia/registries/General`\n",
            "  Resolving package versions...\n",
            "  Installed Artifacts ─────── v1.3.0\n",
            "  Installed VersionParsing ── v1.2.0\n",
            "  Installed MbedTLS_jll ───── v2.16.8+1\n",
            "  Installed ZeroMQ_jll ────── v4.3.2+5\n",
            "  Installed Parsers ───────── v1.0.12\n",
            "  Installed SoftGlobalScope ─ v1.1.0\n",
            "  Installed IJulia ────────── v1.23.1\n",
            "  Installed JLLWrappers ───── v1.1.3\n",
            "  Installed JSON ──────────── v0.21.1\n",
            "  Installed MbedTLS ───────── v1.0.3\n",
            "  Installed Conda ─────────── v1.5.0\n",
            "  Installed ZMQ ───────────── v1.2.1\n",
            "Downloading artifact: MbedTLS\n",
            "######################################################################## 100.0%\n",
            "\u001b[1A\u001b[2K\u001b[?25hDownloading artifact: ZeroMQ\n",
            "######################################################################## 100.0%\n",
            "\u001b[1A\u001b[2K\u001b[?25h   Updating `~/.julia/environments/v1.4/Project.toml`\n",
            "  [7073ff75] + IJulia v1.23.1\n",
            "   Updating `~/.julia/environments/v1.4/Manifest.toml`\n",
            "  [56f22d72] + Artifacts v1.3.0\n",
            "  [8f4d0f93] + Conda v1.5.0\n",
            "  [7073ff75] + IJulia v1.23.1\n",
            "  [692b3bcd] + JLLWrappers v1.1.3\n",
            "  [682c06a0] + JSON v0.21.1\n",
            "  [739be429] + MbedTLS v1.0.3\n",
            "  [c8ffd9c3] + MbedTLS_jll v2.16.8+1\n",
            "  [69de0a69] + Parsers v1.0.12\n",
            "  [b85f4697] + SoftGlobalScope v1.1.0\n",
            "  [81def892] + VersionParsing v1.2.0\n",
            "  [c2297ded] + ZMQ v1.2.1\n",
            "  [8f1865be] + ZeroMQ_jll v4.3.2+5\n",
            "  [2a0f44e3] + Base64 \n",
            "  [ade2ca70] + Dates \n",
            "  [8ba89e20] + Distributed \n",
            "  [7b1f6079] + FileWatching \n",
            "  [b77e0a4c] + InteractiveUtils \n",
            "  [76f85450] + LibGit2 \n",
            "  [8f399da3] + Libdl \n",
            "  [56ddb016] + Logging \n",
            "  [d6f4376e] + Markdown \n",
            "  [a63ad114] + Mmap \n",
            "  [44cfe95a] + Pkg \n",
            "  [de0858da] + Printf \n",
            "  [3fa0cd96] + REPL \n",
            "  [9a3f8284] + Random \n",
            "  [ea8e919c] + SHA \n",
            "  [9e88b42a] + Serialization \n",
            "  [6462fe0b] + Sockets \n",
            "  [8dfed614] + Test \n",
            "  [cf7118a7] + UUIDs \n",
            "  [4ec0a83e] + Unicode \n",
            "   Building Conda ─→ `~/.julia/packages/Conda/x5ml4/deps/build.log`\n",
            "   Building IJulia → `~/.julia/packages/IJulia/IDNmS/deps/build.log`\n",
            "Precompiling project...\n",
            "Installing Julia package BenchmarkTools...\n",
            "   Updating registry at `~/.julia/registries/General`\n",
            "   Updating git-repo `https://github.com/JuliaRegistries/General.git`\n",
            "\u001b[?25l\u001b[2K\u001b[?25h  Resolving package versions...\n",
            "  Installed BenchmarkTools ─ v0.5.0\n",
            "   Updating `~/.julia/environments/v1.4/Project.toml`\n",
            "  [6e4b80f9] + BenchmarkTools v0.5.0\n",
            "   Updating `~/.julia/environments/v1.4/Manifest.toml`\n",
            "  [6e4b80f9] + BenchmarkTools v0.5.0\n",
            "  [37e2e46d] + LinearAlgebra \n",
            "  [2f01184e] + SparseArrays \n",
            "  [10745b16] + Statistics \n",
            "Precompiling project...\n",
            "Installing Julia package PyCall...\n",
            "   Updating registry at `~/.julia/registries/General`\n",
            "   Updating git-repo `https://github.com/JuliaRegistries/General.git`\n",
            "\u001b[?25l\u001b[2K\u001b[?25h  Resolving package versions...\n",
            "  Installed MacroTools ─ v0.5.6\n",
            "  Installed PyCall ───── v1.92.1\n",
            "   Updating `~/.julia/environments/v1.4/Project.toml`\n",
            "  [438e738f] + PyCall v1.92.1\n",
            "   Updating `~/.julia/environments/v1.4/Manifest.toml`\n",
            "  [1914dd2f] + MacroTools v0.5.6\n",
            "  [438e738f] + PyCall v1.92.1\n",
            "   Building PyCall → `~/.julia/packages/PyCall/BcTLp/deps/build.log`\n",
            "Precompiling project...\n",
            "Installing Julia package PyPlot...\n",
            "   Updating registry at `~/.julia/registries/General`\n",
            "   Updating git-repo `https://github.com/JuliaRegistries/General.git`\n",
            "\u001b[?25l\u001b[2K\u001b[?25h  Resolving package versions...\n",
            "  Installed Reexport ────────── v0.2.0\n",
            "  Installed LaTeXStrings ────── v1.2.0\n",
            "  Installed PyPlot ──────────── v2.9.0\n",
            "  Installed FixedPointNumbers ─ v0.8.4\n",
            "  Installed ColorTypes ──────── v0.10.9\n",
            "  Installed Colors ──────────── v0.12.4\n",
            "   Updating `~/.julia/environments/v1.4/Project.toml`\n",
            "  [d330b81b] + PyPlot v2.9.0\n",
            "   Updating `~/.julia/environments/v1.4/Manifest.toml`\n",
            "  [3da002f7] + ColorTypes v0.10.9\n",
            "  [5ae59095] + Colors v0.12.4\n",
            "  [53c48c17] + FixedPointNumbers v0.8.4\n",
            "  [b964fa9f] + LaTeXStrings v1.2.0\n",
            "  [d330b81b] + PyPlot v2.9.0\n",
            "  [189a3867] + Reexport v0.2.0\n",
            "Precompiling project...\n",
            "Installing IJulia kernel...\n",
            "[ Info: Installing julia kernelspec in /root/.local/share/jupyter/kernels/julia-1.4\n",
            "\n",
            "Successfully installed julia version 1.4.2!\n",
            "Please reload this page (press Ctrl+R, ⌘+R, or the F5 key) then\n",
            "jump to the 'Checking the Installation' section.\n"
          ],
          "name": "stdout"
        },
        {
          "output_type": "execute_result",
          "data": {
            "text/plain": [
              ""
            ]
          },
          "metadata": {
            "tags": []
          },
          "execution_count": 2
        }
      ]
    },
    {
      "cell_type": "code",
      "metadata": {
        "id": "GIeFXS0F0zww",
        "colab": {
          "base_uri": "https://localhost:8080/",
          "height": 1000
        },
        "outputId": "6a6c3443-7859-4745-88fe-102470b671da"
      },
      "source": [
        "println(\"Hello\")\n",
        "println(\"HI\");"
      ],
      "execution_count": null,
      "outputs": [
        {
          "output_type": "error",
          "ename": "NameError",
          "evalue": "ignored",
          "traceback": [
            "\u001b[0;31m---------------------------------------------------------------------------\u001b[0m",
            "\u001b[0;31mNameError\u001b[0m                                 Traceback (most recent call last)",
            "\u001b[0;32m<ipython-input-3-7cd4dafc8ea8>\u001b[0m in \u001b[0;36m<module>\u001b[0;34m()\u001b[0m\n\u001b[0;32m----> 1\u001b[0;31m \u001b[0mprintln\u001b[0m\u001b[0;34m(\u001b[0m\u001b[0;34m\"Hello\"\u001b[0m\u001b[0;34m)\u001b[0m\u001b[0;34m\u001b[0m\u001b[0;34m\u001b[0m\u001b[0m\n\u001b[0m\u001b[1;32m      2\u001b[0m \u001b[0mprintln\u001b[0m\u001b[0;34m(\u001b[0m\u001b[0;34m\"HI\"\u001b[0m\u001b[0;34m)\u001b[0m\u001b[0;34m;\u001b[0m\u001b[0;34m\u001b[0m\u001b[0;34m\u001b[0m\u001b[0m\n",
            "\u001b[0;31mNameError\u001b[0m: name 'println' is not defined"
          ]
        }
      ]
    },
    {
      "cell_type": "code",
      "metadata": {
        "id": "9l8rC5Jk86Y7"
      },
      "source": [
        "import Pkg\n",
        "Pkg.add(\"Plots\")\n"
      ],
      "execution_count": null,
      "outputs": []
    },
    {
      "cell_type": "markdown",
      "metadata": {
        "id": "GGSwf9W0OXIQ"
      },
      "source": [
        "import Pkg # allow package imports\n",
        "\n",
        "\n",
        "\n",
        "\n",
        "Pkg.add(\"your specific package name here\" #import package"
      ]
    },
    {
      "cell_type": "code",
      "metadata": {
        "id": "kvesknUiDYwr"
      },
      "source": [
        "Pkg.add(\"CSV\")\n",
        "Pkg.add(\"DataFrames\")\n",
        "Pkg.add(\"HTTP\")\n",
        "Pkg.add(\"CSVFiles\")"
      ],
      "execution_count": null,
      "outputs": []
    },
    {
      "cell_type": "code",
      "metadata": {
        "id": "xUuHP9_bDb9E"
      },
      "source": [
        "using Plots\n",
        "plot(rand(5,5),linewidth = 2,title=\"simple plot\")"
      ],
      "execution_count": null,
      "outputs": []
    },
    {
      "cell_type": "code",
      "metadata": {
        "id": "y744BAX2GFVe"
      },
      "source": [
        "x = 1:10\n",
        "y = rand(10) # These are the plotting data \n",
        "plot(x,y, label=\"my label\")\n"
      ],
      "execution_count": null,
      "outputs": []
    },
    {
      "cell_type": "code",
      "metadata": {
        "id": "8XlC6_oZH-nW"
      },
      "source": [
        "# using HTTP, DataFrames, CSV # load packages\n",
        "#r = HTTP.get(\"https://raw.githubusercontent.com/nytimes/covid-19-data/master/us-states.csv\")\n",
        "#d = HTTP.get(\"https://github.com/nytimes/covid-19-data/blob/master/us-states.csv\")\n",
        "url = \"https://raw.githubusercontent.com/nytimes/covid-19-data/master/us-states.csv\""
      ],
      "execution_count": null,
      "outputs": []
    },
    {
      "cell_type": "code",
      "metadata": {
        "id": "yk7J84OQrJnx"
      },
      "source": [
        "using CSVFiles, DataFrames\n",
        "\n",
        "CSV.File(download(url))\n",
        "d = download(\"https://raw.githubusercontent.com/nytimes/covid-19-data/master/us-states.csv\",\"us-states.csv\" )\n",
        "f = CSV.File(d)\n",
        "\n",
        "# load as a DF\n",
        "df = DataFrame(load(d))"
      ],
      "execution_count": null,
      "outputs": []
    },
    {
      "cell_type": "code",
      "metadata": {
        "id": "VAoIA0Rb25MN"
      },
      "source": [
        "x = 1:12\n",
        "y = rand(10) # These are the plotting data \n",
        "plot(x,y, label=\"my label\")"
      ],
      "execution_count": null,
      "outputs": []
    },
    {
      "cell_type": "code",
      "metadata": {
        "id": "z0lLRLQ1ziWO"
      },
      "source": [
        "# get the size of the data set\n",
        "tup = size(df.date) # SIZE OF CSV/ ARRAY\n",
        "num_rows = tup[1]"
      ],
      "execution_count": null,
      "outputs": []
    },
    {
      "cell_type": "code",
      "metadata": {
        "id": "8Jfx3OTbtFA7"
      },
      "source": [
        "#Make an array of dates\n",
        "dates = []\n",
        "jan = 0; feb = 0; march = 0; april = 0; may = 0; june = 0; july = 0;august = 0; september = 0; october = 0; november = 0; december = 0;\n",
        "\n",
        "months = []\n",
        "for i = 1:num_rows\n",
        "           date = df.date[i]\n",
        "           push!(dates,date)\n",
        "           # get the months of each point\n",
        "           a = string(dates[i])\n",
        "\n",
        "          # if month = jan , add a count to jan\n",
        "          if a[6:7] == \"01\"             \n",
        "            global jan = jan + 1           \n",
        "          elseif a[6:7] == \"02\" \n",
        "            global feb = feb + 1            \n",
        "          elseif a[6:7] == \"03\" \n",
        "            global march = march + 1\n",
        "          elseif a[6:7] == \"04\"             \n",
        "            global april = april + 1           \n",
        "          elseif a[6:7] == \"05\" \n",
        "            global may = may + 1            \n",
        "          elseif a[6:7] == \"06\" \n",
        "            global june = june + 1\n",
        "          elseif a[6:7] == \"07\" \n",
        "            global july = july + 1\n",
        "          elseif a[6:7] == \"08\"             \n",
        "            global august = august + 1           \n",
        "          elseif a[6:7] == \"09\" \n",
        "            global september = september + 1            \n",
        "          elseif a[6:7] == \"10\" \n",
        "            global october = october + 1\n",
        "          elseif a[6:7] == \"10\" \n",
        "            global december = december + 1\n",
        "              \n",
        "           end\n",
        "           \n",
        "          \n",
        "end\n",
        "push!(months,jan)\n",
        "push!(months,feb)\n",
        "push!(months,march)\n",
        "push!(months,april)\n",
        "push!(months,may)\n",
        "push!(months,june)\n",
        "push!(months,july)\n",
        "push!(months,august)\n",
        "push!(months,september)\n",
        "push!(months,october)\n",
        "#push!(months,november)\n",
        "#push!(months,december)\n",
        "\n",
        "\n",
        "\n",
        "#dates[1] # still cant access 0 index. type is at 0 index\n",
        "\n",
        "typeof(dates) # array\n",
        "typeof(df) # dataFrame\n",
        "dates[3]\n"
      ],
      "execution_count": null,
      "outputs": []
    },
    {
      "cell_type": "code",
      "metadata": {
        "id": "GwMWwXIP7Z52"
      },
      "source": [
        "x = months\n",
        "l = [0,1,2,9,4,5]\n",
        "y =  months # These are the plotting data \n",
        "plot(x,y, label=\"my label\")"
      ],
      "execution_count": null,
      "outputs": []
    },
    {
      "cell_type": "code",
      "metadata": {
        "id": "oRw_WUVczIb6"
      },
      "source": [
        "# Same thing\n",
        "jan == months[1]"
      ],
      "execution_count": null,
      "outputs": []
    },
    {
      "cell_type": "code",
      "metadata": {
        "id": "EgbfCxPLxM6z"
      },
      "source": [
        "a = string(dates[1])\n"
      ],
      "execution_count": null,
      "outputs": []
    },
    {
      "cell_type": "code",
      "metadata": {
        "id": "g0hBrFWug-wH"
      },
      "source": [
        "#example plot\n",
        "x = 1:6\n",
        "l = [0,1,2,9,4,5]\n",
        "y =  l # These are the plotting data \n",
        "plot(x,y, label=\"my label\")\n"
      ],
      "execution_count": null,
      "outputs": []
    }
  ]
}